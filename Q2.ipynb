{
  "cells": [
    {
      "cell_type": "markdown",
      "metadata": {
        "id": "ChC3RF8meAlK"
      },
      "source": [
        "<h1 align=\"center\">Introduction to Machine Learning - 25737-2</h1>\n",
        "<h4 align=\"center\">Dr. R. Amiri</h4>\n",
        "<h4 align=\"center\">Sharif University of Technology, Spring 2024</h4>\n",
        "\n",
        "\n",
        "**<font color='red'>Plagiarism is strongly prohibited!</font>**\n",
        "\n",
        "\n",
        "**Student Name**: Tina Halimi\n",
        "\n",
        "**Student ID**: 400101078\n",
        "\n",
        "\n",
        "\n"
      ]
    },
    {
      "cell_type": "code",
      "execution_count": 1,
      "metadata": {
        "metadata": {}
      },
      "outputs": [],
      "source": [
        "# imports\n",
        "import numpy as np\n",
        "import torch\n",
        "import pandas as pd\n",
        "from sklearn.model_selection import train_test_split\n",
        "from sklearn.preprocessing import StandardScaler\n",
        "from sklearn.metrics import accuracy_score\n",
        "from sklearn.metrics import accuracy_score, precision_score, recall_score, f1_score\n",
        "from sklearn.linear_model import LogisticRegression\n",
        "import torch.nn as nn\n",
        "import torch.optim as optim\n",
        "import matplotlib.pyplot as plt\n",
        "from sklearn.preprocessing import LabelEncoder\n",
        "from sklearn.model_selection import GridSearchCV\n"
      ]
    },
    {
      "cell_type": "markdown",
      "metadata": {
        "id": "IraiR0SbeDi_"
      },
      "source": [
        "# Logistic Regression"
      ]
    },
    {
      "cell_type": "markdown",
      "metadata": {
        "id": "nRQjwWC3eDnc"
      },
      "source": [
        "**Task:** Implement your own Logistic Regression model, and test it on the given dataset of Logistic_question.csv!"
      ]
    },
    {
      "cell_type": "code",
      "execution_count": 2,
      "metadata": {
        "metadata": {}
      },
      "outputs": [],
      "source": [
        "class MyLogisticRegression:\n",
        "    # Your code goes here!\n",
        "    # This class must have an __init__ method, a loss function, a fit function, and a predict function. You also need to make your code runnable on gpu!\n",
        "    def __init__(self, input_dim, learning_rate=0.01):\n",
        "        self.device = torch.device(\"cuda\" if torch.cuda.is_available() else \"cpu\")\n",
        "        self.weights = torch.zeros(input_dim, 1, dtype=torch.float32, device=self.device)\n",
        "        self.bias = torch.zeros(1, dtype=torch.float32, device=self.device)\n",
        "        self.learning_rate = learning_rate\n",
        "\n",
        "    def sigmoid(self, x):\n",
        "        return 1 / (1 + torch.exp(-x))\n",
        "\n",
        "    def loss(self, y_pred, y_true):\n",
        "        return -torch.mean(y_true * torch.log(y_pred) + (1 - y_true) * torch.log(1 - y_pred))\n",
        "\n",
        "    def fit(self, X, y, epochs=1000):\n",
        "        X = torch.tensor(X, dtype=torch.float32, device=self.device)\n",
        "        y = torch.tensor(y.values, dtype=torch.float32, device=self.device).unsqueeze(1)\n",
        "\n",
        "        for _ in range(epochs):\n",
        "            y_pred = self.sigmoid(torch.matmul(X, self.weights) + self.bias)\n",
        "            loss = self.loss(y_pred, y)\n",
        "\n",
        "            dW = torch.matmul(X.t(), (y_pred - y)) / X.size(0)\n",
        "            db = torch.sum(y_pred - y) / X.size(0)\n",
        "\n",
        "            self.weights -= self.learning_rate * dW\n",
        "            self.bias -= self.learning_rate * db\n",
        "\n",
        "    def predict_probability(self, X):\n",
        "        X = torch.tensor(X, dtype=torch.float32, device=self.device)\n",
        "        y_pred = self.sigmoid(torch.matmul(X, self.weights) + self.bias)\n",
        "        return y_pred.numpy()\n",
        "\n",
        "    def predict(self, X):\n",
        "        X = torch.tensor(X, dtype=torch.float32, device=self.device)\n",
        "        y_pred = self.sigmoid(torch.matmul(X, self.weights) + self.bias)\n",
        "        return (y_pred > 0.5).float().cpu().numpy()\n"
      ]
    },
    {
      "cell_type": "markdown",
      "metadata": {
        "id": "S-i-oubUlZ6e"
      },
      "source": [
        "**Task:** Test your model on the given dataset. You must split your data into train and test, with a 0.2 split, then normalize your data using X_train data. Finally, report 4 different evaluation metrics of the model on the test set. (You might want to first make the Target column binary!)"
      ]
    },
    {
      "cell_type": "code",
      "execution_count": 3,
      "metadata": {
        "colab": {
          "base_uri": "https://localhost:8080/"
        },
        "id": "0KXzIy_2u-pG",
        "metadata": {},
        "outputId": "9625f7e2-abb1-4591-c0fa-843525e0ffd6"
      },
      "outputs": [
        {
          "name": "stdout",
          "output_type": "stream",
          "text": [
            "Accuracy: 91.25 \f%\n",
            "Precision: 97.18 \f%\n",
            "Recall: 93.24 \f%\n",
            "F1-score: 95.17 \f%\n"
          ]
        }
      ],
      "source": [
        "# Your code goes here!\n",
        "\n",
        "data = pd.read_csv(\"Logistic_question.csv\")\n",
        "\n",
        "X = data.drop('Target', axis=1)\n",
        "y = data['Target']\n",
        "\n",
        "X_train, X_test, y_train, y_test = train_test_split(X, y, test_size=0.2, random_state=30)\n",
        "\n",
        "scaler = StandardScaler()\n",
        "X_train_scaled = scaler.fit_transform(X_train)\n",
        "X_test_scaled = scaler.transform(X_test)\n",
        "\n",
        "model = MyLogisticRegression(input_dim=X_train_scaled.shape[1])\n",
        "model.fit(X_train_scaled, y_train)\n",
        "\n",
        "y_pred = model.predict(X_test_scaled)\n",
        "y_test= (y_test > 0.5).astype(int)\n",
        "\n",
        "accuracy = accuracy_score(y_test, y_pred)\n",
        "precision = precision_score(y_test, y_pred)\n",
        "recall = recall_score(y_test, y_pred)\n",
        "f1 = f1_score(y_test, y_pred)\n",
        "\n",
        "print(\"Accuracy:\", np.round(accuracy * 100 , decimals = 2) ,'\\f%')\n",
        "print(\"Precision:\", np.round(precision* 100,decimals=2) ,'\\f%')\n",
        "print(\"Recall:\", np.round(recall* 100,decimals=2) ,'\\f%')\n",
        "print(\"F1-score:\", np.round(f1* 100,decimals=2) ,'\\f%')\n"
      ]
    },
    {
      "cell_type": "markdown",
      "metadata": {
        "id": "Ji0RXNGKv1pa"
      },
      "source": [
        "**Question:** What are each of your used evaluation metrics? And for each one, mention situations in which they convey more data on the model performance in specific tasks."
      ]
    },
    {
      "cell_type": "markdown",
      "metadata": {
        "id": "ldveD35twRRZ"
      },
      "source": [
        "**Your answer:**"
      ]
    },
    {
      "cell_type": "markdown",
      "metadata": {},
      "source": [
        "1. **Accuracy**:\n",
        "   - **Explanation**: Accuracy measures the proportion of correctly classified instances out of all instances (Accuracy = Number of Correct Predictions / Total Number of Predictions).\n",
        "   - **Situations**:\n",
        "     - Provides a general overview of model performance when all classes are of equal importance and the class distribution is balanced.\n",
        "     - Suitable for tasks where the cost of misclassification errors is similar for all classes.\n",
        "     - However, accuracy can be misleading when the class distribution is imbalanced because it may not reflect the performance on minority classes.\n",
        "\n",
        "2. **Precision**:\n",
        "   - **Explanation**: Precision measures the accuracy of positive predictions, i.e., the proportion of true positive predictions out of all positive predictions (Precision = True Positives / (True Positives + False Positives)).\n",
        "   - **Situations**:\n",
        "     - Useful when minimizing false positives is crucial, such as in medical diagnosis or fraud detection.\n",
        "     - Provides insights into the model's ability to avoid false alarms or unnecessary actions.\n",
        "     - Higher precision indicates fewer false positives, which is important in tasks where the cost of false positives is high.\n",
        "\n",
        "3. **Recall (Sensitivity)**:\n",
        "   - **Explanation**: Recall measures the ability to find all positive instances, i.e., the proportion of true positive predictions out of all actual positive instances (Recall = True Positives / (True Positives + False Negatives)).\n",
        "   - **Situations**:\n",
        "     - Useful when minimizing false negatives is crucial, such as in medical screening or anomaly detection.\n",
        "     - Provides insights into the model's ability to identify all relevant instances of a class.\n",
        "     - Higher recall indicates fewer missed positive instances (lower false negatives), which is important in tasks where missing positive instances is costly.\n",
        "\n",
        "4. **F1-score**:\n",
        "   - **Explanation**: F1-score is the harmonic mean of precision and recall, balancing both metrics (F1-score = 2 * Precision * Recall / (Precision + Recall)).\n",
        "   - **Situations**:\n",
        "     - Suitable for tasks with imbalanced class distributions where both false positives and false negatives are important.\n",
        "     - Provides a single metric that combines precision and recall, giving an overall measure of a model's accuracy.\n",
        "     - Useful for comparing models and selecting the one with the best balance between precision and recall."
      ]
    },
    {
      "cell_type": "markdown",
      "metadata": {
        "id": "1ZCeRHZSw-mh"
      },
      "source": [
        "**Task:** Now test the built-in function of Python for Logistic Regression, and report all the same metrics used before."
      ]
    },
    {
      "cell_type": "code",
      "execution_count": 4,
      "metadata": {
        "id": "Vb5lRSQXDLR3",
        "metadata": {}
      },
      "outputs": [
        {
          "name": "stdout",
          "output_type": "stream",
          "text": [
            "Accuracy: 95.0 \f%\n",
            "Precision: 96.05 \f%\n",
            "Recall: 98.65 \f%\n",
            "F1-score: 97.33 \f%\n"
          ]
        },
        {
          "name": "stderr",
          "output_type": "stream",
          "text": [
            "/Library/Frameworks/Python.framework/Versions/3.11/lib/python3.11/site-packages/sklearn/linear_model/_logistic.py:460: ConvergenceWarning: lbfgs failed to converge (status=1):\n",
            "STOP: TOTAL NO. of ITERATIONS REACHED LIMIT.\n",
            "\n",
            "Increase the number of iterations (max_iter) or scale the data as shown in:\n",
            "    https://scikit-learn.org/stable/modules/preprocessing.html\n",
            "Please also refer to the documentation for alternative solver options:\n",
            "    https://scikit-learn.org/stable/modules/linear_model.html#logistic-regression\n",
            "  n_iter_i = _check_optimize_result(\n"
          ]
        }
      ],
      "source": [
        "\n",
        "y_train = (y_train >= 0.5).astype(int)\n",
        "\n",
        "model = LogisticRegression()\n",
        "model.fit(X_train, y_train)\n",
        "\n",
        "y_pred = model.predict(X_test)\n",
        "\n",
        "accuracy = accuracy_score(y_test, y_pred)\n",
        "precision = precision_score(y_test, y_pred)\n",
        "recall = recall_score(y_test, y_pred)\n",
        "f1 = f1_score(y_test, y_pred)\n",
        "\n",
        "print(\"Accuracy:\", np.round(accuracy * 100 , decimals = 2) ,'\\f%')\n",
        "print(\"Precision:\", np.round(precision* 100,decimals=2) ,'\\f%')\n",
        "print(\"Recall:\", np.round(recall* 100,decimals=2) ,'\\f%')\n",
        "print(\"F1-score:\", np.round(f1* 100,decimals=2) ,'\\f%')\n"
      ]
    },
    {
      "cell_type": "markdown",
      "metadata": {
        "id": "RCvIymmMy_ji"
      },
      "source": [
        "**Question:** Compare your function with the built-in function. On the matters of performance and parameters. Briefly explain what the parameters of the built-in function are and how they affect the model's performance?"
      ]
    },
    {
      "cell_type": "markdown",
      "metadata": {
        "id": "EY0ohM16z3De"
      },
      "source": [
        "**Your answer:**"
      ]
    },
    {
      "cell_type": "markdown",
      "metadata": {},
      "source": [
        "### Performance:\n",
        "1. **Speed**: The built-in function from scikit-learn is highly optimized and written in C, so it's likely to be faster, especially for large datasets.\n",
        "   \n",
        "2. **Parallelization**: Scikit-learn's Logistic Regression can utilize multiple CPU cores for parallel computation, which can further enhance its speed. However, your implementation can also run on GPU, potentially offering speed advantages if GPU acceleration is available and properly utilized.\n",
        "\n",
        "### Parameters:\n",
        "- **penalty**: Determines the regularization term. It can be either L1 or L2 regularization.\n",
        "  \n",
        "- **C**: Inverse of regularization strength; smaller values specify stronger regularization. It's essentially the regularization parameter, controlling overfitting.\n",
        "\n",
        "- **solver**: Algorithm to use for optimization. Options include 'liblinear', 'newton-cg', 'lbfgs', 'sag', and 'saga'. Each solver has its own characteristics and performance traits.\n",
        "\n",
        "- **max_iter**: Maximum number of iterations taken for the solvers to converge.\n",
        "\n",
        "- **tol**: Tolerance for stopping criteria.\n",
        "\n",
        "- **class_weight**: Weights associated with classes. Useful for dealing with imbalanced datasets.\n",
        "\n",
        "- **random_state**: Seed for random number generation, ensuring reproducibility.\n",
        "\n",
        "### Comparison:\n",
        "- **Performance**: Scikit-learn's implementation, being optimized and able to utilize multicore processing, may outperform your custom implementation, especially on large datasets.\n",
        "\n",
        "- **Parameters**: While your implementation is simpler and more straightforward, the built-in function provides more flexibility through various parameters, allowing for better customization and fine-tuning of the logistic regression model.\n",
        "\n",
        "In summary, The Speed and Accuracy is better using built-in function.\n"
      ]
    },
    {
      "cell_type": "markdown",
      "metadata": {
        "id": "ClMqoYlr2kr7"
      },
      "source": [
        "# Multinomial Logistic Regression"
      ]
    },
    {
      "cell_type": "markdown",
      "metadata": {
        "id": "ukvlqDe52xP5"
      },
      "source": [
        "**Task:** Implement your own Multinomial Logistic Regression model. Your model must be able to handle any number of labels!"
      ]
    },
    {
      "cell_type": "code",
      "execution_count": 5,
      "metadata": {
        "metadata": {}
      },
      "outputs": [],
      "source": [
        "class MyMultinomialLogisticRegression:\n",
        "    def __init__(self, learning_rate=0.01, epochs=100):\n",
        "        self.learning_rate = learning_rate\n",
        "        self.epochs = epochs\n",
        "        self.weights = torch.zeros(1, dtype=torch.float32)\n",
        "        self.bias = torch.zeros(1, dtype=torch.float32)\n",
        "        self.num_classes = None\n",
        "\n",
        "    def sigmoid(self, x):\n",
        "        return 1 / (1 + torch.exp(-x))\n",
        "    \n",
        "    def softmax(self, z):\n",
        "        exp_scores = torch.exp(z)\n",
        "        return exp_scores / torch.sum(exp_scores, dim=1, keepdim=True)\n",
        "\n",
        "    def fit(self, X, y):\n",
        "        m, n = X.shape\n",
        "        self.num_classes = len(np.unique(y))\n",
        "        self.weights = torch.zeros(n, self.num_classes, dtype=torch.float32)\n",
        "        self.bias = torch.zeros(self.num_classes, dtype=torch.float32)\n",
        "\n",
        "        # Move data to GPU if available\n",
        "        device = torch.device(\"cuda\" if torch.cuda.is_available() else \"cpu\")\n",
        "        X_tensor = torch.tensor(X, dtype=torch.float32, device=device)\n",
        "        y_tensor = torch.tensor(y, dtype=torch.long, device=device)\n",
        "\n",
        "        for epoch in range(self.epochs):\n",
        "            # Forward pass\n",
        "            linear_model = torch.matmul(X_tensor, self.weights) + self.bias\n",
        "            y_pred = self.softmax(linear_model)\n",
        "\n",
        "            # Compute gradients\n",
        "            one_hot_y = torch.eye(self.num_classes)[y_tensor].to(device)\n",
        "            error = y_pred - one_hot_y\n",
        "            dw = (1 / m) * torch.matmul(X_tensor.t(), error)\n",
        "            db = (1 / m) * torch.sum(error, dim=0)\n",
        "\n",
        "            # Update parameters\n",
        "            self.weights -= self.learning_rate * dw\n",
        "            self.bias -= self.learning_rate * db\n",
        "\n",
        "    def predict_probability(self, X):\n",
        "        X = torch.tensor(X, dtype=torch.float32)\n",
        "        weights_tensor = torch.tensor(self.weights, dtype=torch.float32)\n",
        "        bias_tensor = torch.tensor(self.bias, dtype=torch.float32)\n",
        "        y_pred = self.sigmoid(torch.matmul(X, weights_tensor) + bias_tensor)\n",
        "        return y_pred\n",
        "\n",
        "\n",
        "    def predict(self, X):\n",
        "        probabilities = self.predict_probability(X)\n",
        "        return np.argmax(probabilities, axis=1)\n"
      ]
    },
    {
      "cell_type": "markdown",
      "metadata": {
        "id": "zPQ3Rtay3Y2_"
      },
      "source": [
        "**Task:** Test your model on the given dataset. Do the same as the previous part, but here you might want to first make the Target column quantized into $i$ levels. Change $i$ from 2 to 10."
      ]
    },
    {
      "cell_type": "code",
      "execution_count": 6,
      "metadata": {
        "id": "9aP4QJPq29B3",
        "metadata": {}
      },
      "outputs": [
        {
          "name": "stdout",
          "output_type": "stream",
          "text": [
            "Quantization Level\tAccuracy\tPrecision\tRecall\t\tF1 Score\n",
            "2\t\t\t95.0%\t\t94.93%\t\t95.16%\t\t94.99%\n",
            "3\t\t\t78.75%\t\t85.12%\t\t74.24%\t\t70.57%\n",
            "4\t\t\t65.0%\t\t58.14%\t\t51.47%\t\t42.64%\n",
            "5\t\t\t45.0%\t\t20.29%\t\t38.0%\t\t26.44%\n",
            "6\t\t\t40.0%\t\t14.45%\t\t32.29%\t\t19.95%\n",
            "7\t\t\t37.5%\t\t18.2%\t\t28.92%\t\t17.99%\n",
            "8\t\t\t33.75%\t\t13.64%\t\t27.88%\t\t17.84%\n",
            "9\t\t\t28.75%\t\t7.33%\t\t21.37%\t\t10.91%\n",
            "10\t\t\t22.5%\t\t5.38%\t\t19.0%\t\t8.39%\n"
          ]
        },
        {
          "name": "stderr",
          "output_type": "stream",
          "text": [
            "/var/folders/w1/6xdwk4ls5nb4d1hy_mlzx5380000gn/T/ipykernel_2696/3128677873.py:44: UserWarning: To copy construct from a tensor, it is recommended to use sourceTensor.clone().detach() or sourceTensor.clone().detach().requires_grad_(True), rather than torch.tensor(sourceTensor).\n",
            "  weights_tensor = torch.tensor(self.weights, dtype=torch.float32)\n",
            "/var/folders/w1/6xdwk4ls5nb4d1hy_mlzx5380000gn/T/ipykernel_2696/3128677873.py:45: UserWarning: To copy construct from a tensor, it is recommended to use sourceTensor.clone().detach() or sourceTensor.clone().detach().requires_grad_(True), rather than torch.tensor(sourceTensor).\n",
            "  bias_tensor = torch.tensor(self.bias, dtype=torch.float32)\n",
            "/var/folders/w1/6xdwk4ls5nb4d1hy_mlzx5380000gn/T/ipykernel_2696/3128677873.py:44: UserWarning: To copy construct from a tensor, it is recommended to use sourceTensor.clone().detach() or sourceTensor.clone().detach().requires_grad_(True), rather than torch.tensor(sourceTensor).\n",
            "  weights_tensor = torch.tensor(self.weights, dtype=torch.float32)\n",
            "/var/folders/w1/6xdwk4ls5nb4d1hy_mlzx5380000gn/T/ipykernel_2696/3128677873.py:45: UserWarning: To copy construct from a tensor, it is recommended to use sourceTensor.clone().detach() or sourceTensor.clone().detach().requires_grad_(True), rather than torch.tensor(sourceTensor).\n",
            "  bias_tensor = torch.tensor(self.bias, dtype=torch.float32)\n",
            "/var/folders/w1/6xdwk4ls5nb4d1hy_mlzx5380000gn/T/ipykernel_2696/3128677873.py:44: UserWarning: To copy construct from a tensor, it is recommended to use sourceTensor.clone().detach() or sourceTensor.clone().detach().requires_grad_(True), rather than torch.tensor(sourceTensor).\n",
            "  weights_tensor = torch.tensor(self.weights, dtype=torch.float32)\n",
            "/var/folders/w1/6xdwk4ls5nb4d1hy_mlzx5380000gn/T/ipykernel_2696/3128677873.py:45: UserWarning: To copy construct from a tensor, it is recommended to use sourceTensor.clone().detach() or sourceTensor.clone().detach().requires_grad_(True), rather than torch.tensor(sourceTensor).\n",
            "  bias_tensor = torch.tensor(self.bias, dtype=torch.float32)\n",
            "/var/folders/w1/6xdwk4ls5nb4d1hy_mlzx5380000gn/T/ipykernel_2696/3128677873.py:44: UserWarning: To copy construct from a tensor, it is recommended to use sourceTensor.clone().detach() or sourceTensor.clone().detach().requires_grad_(True), rather than torch.tensor(sourceTensor).\n",
            "  weights_tensor = torch.tensor(self.weights, dtype=torch.float32)\n",
            "/var/folders/w1/6xdwk4ls5nb4d1hy_mlzx5380000gn/T/ipykernel_2696/3128677873.py:45: UserWarning: To copy construct from a tensor, it is recommended to use sourceTensor.clone().detach() or sourceTensor.clone().detach().requires_grad_(True), rather than torch.tensor(sourceTensor).\n",
            "  bias_tensor = torch.tensor(self.bias, dtype=torch.float32)\n",
            "/Library/Frameworks/Python.framework/Versions/3.11/lib/python3.11/site-packages/sklearn/metrics/_classification.py:1471: UndefinedMetricWarning: Precision is ill-defined and being set to 0.0 in labels with no predicted samples. Use `zero_division` parameter to control this behavior.\n",
            "  _warn_prf(average, modifier, msg_start, len(result))\n",
            "/var/folders/w1/6xdwk4ls5nb4d1hy_mlzx5380000gn/T/ipykernel_2696/3128677873.py:44: UserWarning: To copy construct from a tensor, it is recommended to use sourceTensor.clone().detach() or sourceTensor.clone().detach().requires_grad_(True), rather than torch.tensor(sourceTensor).\n",
            "  weights_tensor = torch.tensor(self.weights, dtype=torch.float32)\n",
            "/var/folders/w1/6xdwk4ls5nb4d1hy_mlzx5380000gn/T/ipykernel_2696/3128677873.py:45: UserWarning: To copy construct from a tensor, it is recommended to use sourceTensor.clone().detach() or sourceTensor.clone().detach().requires_grad_(True), rather than torch.tensor(sourceTensor).\n",
            "  bias_tensor = torch.tensor(self.bias, dtype=torch.float32)\n",
            "/Library/Frameworks/Python.framework/Versions/3.11/lib/python3.11/site-packages/sklearn/metrics/_classification.py:1471: UndefinedMetricWarning: Precision is ill-defined and being set to 0.0 in labels with no predicted samples. Use `zero_division` parameter to control this behavior.\n",
            "  _warn_prf(average, modifier, msg_start, len(result))\n",
            "/var/folders/w1/6xdwk4ls5nb4d1hy_mlzx5380000gn/T/ipykernel_2696/3128677873.py:44: UserWarning: To copy construct from a tensor, it is recommended to use sourceTensor.clone().detach() or sourceTensor.clone().detach().requires_grad_(True), rather than torch.tensor(sourceTensor).\n",
            "  weights_tensor = torch.tensor(self.weights, dtype=torch.float32)\n",
            "/var/folders/w1/6xdwk4ls5nb4d1hy_mlzx5380000gn/T/ipykernel_2696/3128677873.py:45: UserWarning: To copy construct from a tensor, it is recommended to use sourceTensor.clone().detach() or sourceTensor.clone().detach().requires_grad_(True), rather than torch.tensor(sourceTensor).\n",
            "  bias_tensor = torch.tensor(self.bias, dtype=torch.float32)\n",
            "/Library/Frameworks/Python.framework/Versions/3.11/lib/python3.11/site-packages/sklearn/metrics/_classification.py:1471: UndefinedMetricWarning: Precision is ill-defined and being set to 0.0 in labels with no predicted samples. Use `zero_division` parameter to control this behavior.\n",
            "  _warn_prf(average, modifier, msg_start, len(result))\n",
            "/var/folders/w1/6xdwk4ls5nb4d1hy_mlzx5380000gn/T/ipykernel_2696/3128677873.py:44: UserWarning: To copy construct from a tensor, it is recommended to use sourceTensor.clone().detach() or sourceTensor.clone().detach().requires_grad_(True), rather than torch.tensor(sourceTensor).\n",
            "  weights_tensor = torch.tensor(self.weights, dtype=torch.float32)\n",
            "/var/folders/w1/6xdwk4ls5nb4d1hy_mlzx5380000gn/T/ipykernel_2696/3128677873.py:45: UserWarning: To copy construct from a tensor, it is recommended to use sourceTensor.clone().detach() or sourceTensor.clone().detach().requires_grad_(True), rather than torch.tensor(sourceTensor).\n",
            "  bias_tensor = torch.tensor(self.bias, dtype=torch.float32)\n",
            "/Library/Frameworks/Python.framework/Versions/3.11/lib/python3.11/site-packages/sklearn/metrics/_classification.py:1471: UndefinedMetricWarning: Precision is ill-defined and being set to 0.0 in labels with no predicted samples. Use `zero_division` parameter to control this behavior.\n",
            "  _warn_prf(average, modifier, msg_start, len(result))\n",
            "/var/folders/w1/6xdwk4ls5nb4d1hy_mlzx5380000gn/T/ipykernel_2696/3128677873.py:44: UserWarning: To copy construct from a tensor, it is recommended to use sourceTensor.clone().detach() or sourceTensor.clone().detach().requires_grad_(True), rather than torch.tensor(sourceTensor).\n",
            "  weights_tensor = torch.tensor(self.weights, dtype=torch.float32)\n",
            "/var/folders/w1/6xdwk4ls5nb4d1hy_mlzx5380000gn/T/ipykernel_2696/3128677873.py:45: UserWarning: To copy construct from a tensor, it is recommended to use sourceTensor.clone().detach() or sourceTensor.clone().detach().requires_grad_(True), rather than torch.tensor(sourceTensor).\n",
            "  bias_tensor = torch.tensor(self.bias, dtype=torch.float32)\n",
            "/Library/Frameworks/Python.framework/Versions/3.11/lib/python3.11/site-packages/sklearn/metrics/_classification.py:1471: UndefinedMetricWarning: Precision is ill-defined and being set to 0.0 in labels with no predicted samples. Use `zero_division` parameter to control this behavior.\n",
            "  _warn_prf(average, modifier, msg_start, len(result))\n",
            "/var/folders/w1/6xdwk4ls5nb4d1hy_mlzx5380000gn/T/ipykernel_2696/3128677873.py:44: UserWarning: To copy construct from a tensor, it is recommended to use sourceTensor.clone().detach() or sourceTensor.clone().detach().requires_grad_(True), rather than torch.tensor(sourceTensor).\n",
            "  weights_tensor = torch.tensor(self.weights, dtype=torch.float32)\n",
            "/var/folders/w1/6xdwk4ls5nb4d1hy_mlzx5380000gn/T/ipykernel_2696/3128677873.py:45: UserWarning: To copy construct from a tensor, it is recommended to use sourceTensor.clone().detach() or sourceTensor.clone().detach().requires_grad_(True), rather than torch.tensor(sourceTensor).\n",
            "  bias_tensor = torch.tensor(self.bias, dtype=torch.float32)\n",
            "/Library/Frameworks/Python.framework/Versions/3.11/lib/python3.11/site-packages/sklearn/metrics/_classification.py:1471: UndefinedMetricWarning: Precision is ill-defined and being set to 0.0 in labels with no predicted samples. Use `zero_division` parameter to control this behavior.\n",
            "  _warn_prf(average, modifier, msg_start, len(result))\n"
          ]
        }
      ],
      "source": [
        "# Your code goes here!\n",
        "\n",
        "def quantize_target(data, levels):\n",
        "    quantiles = pd.qcut(data['Target'], levels, labels=False, duplicates='drop')\n",
        "    return quantiles\n",
        "\n",
        "def evaluate_model(model, X_test, y_test):\n",
        "    y_pred = model.predict(X_test)\n",
        "    accuracy = accuracy_score(y_test, y_pred)\n",
        "    precision = precision_score(y_test, y_pred, average='macro')\n",
        "    recall = recall_score(y_test, y_pred, average='macro')\n",
        "    f1 = f1_score(y_test, y_pred, average='macro')\n",
        "    return accuracy, precision, recall, f1\n",
        "\n",
        "def test_model_with_quantization(data, levels):\n",
        "    results = []\n",
        "    for i in range(2, levels+1):\n",
        "        \n",
        "        quantized_target = quantize_target(data, i)\n",
        "        X = data.drop('Target', axis=1)\n",
        "        X_train, X_test, y_train, y_test = train_test_split(X, quantized_target, test_size=0.2, random_state=42)\n",
        "        scaler = StandardScaler()\n",
        "        X_train_scaled = scaler.fit_transform(X_train)\n",
        "        X_test_scaled = scaler.transform(X_test)\n",
        "        \n",
        "        y_train = y_train.values\n",
        "        y_test = y_test.values\n",
        "        \n",
        "        model = MyMultinomialLogisticRegression()\n",
        "        model.fit(X_train_scaled, y_train)\n",
        "        accuracy, precision, recall, f1 = evaluate_model(model, X_test_scaled, y_test)\n",
        "        results.append((i, accuracy, precision, recall, f1))\n",
        "\n",
        "    return results\n",
        "\n",
        "\n",
        "quantization_levels = 10\n",
        "evaluation_results = test_model_with_quantization(data, quantization_levels)\n",
        "\n",
        "print(\"Quantization Level\\tAccuracy\\tPrecision\\tRecall\\t\\tF1 Score\")\n",
        "for result in evaluation_results:\n",
        "    quantization_level, accuracy, precision, recall, f1 = result\n",
        "    accuracy_percent = round(accuracy * 100, 2)\n",
        "    precision_percent = round(precision * 100, 2)\n",
        "    recall_percent = round(recall * 100, 2)\n",
        "    f1_score_percent = round(f1 * 100, 2)\n",
        "    print(\"{:}\\t\\t\\t{:}%\\t\\t{:}%\\t\\t{:}%\\t\\t{:}%\".format(quantization_level, accuracy_percent, precision_percent, recall_percent, f1_score_percent))\n"
      ]
    },
    {
      "cell_type": "markdown",
      "metadata": {
        "id": "Of2sHl5Z4dXi"
      },
      "source": [
        "**Question:** Report for which $i$ your model performs best. Describe and analyze the results! You could use visualizations or any other method!"
      ]
    },
    {
      "cell_type": "markdown",
      "metadata": {},
      "source": [
        "**Your answer:**"
      ]
    },
    {
      "cell_type": "code",
      "execution_count": 7,
      "metadata": {
        "metadata": {}
      },
      "outputs": [
        {
          "data": {
            "image/png": "[encoded data removed]",
            "text/plain": [
              "<Figure size 800x500 with 1 Axes>"
            ]
          },
          "metadata": {},
          "output_type": "display_data"
        },
        {
          "name": "stdout",
          "output_type": "stream",
          "text": [
            "Best Quantization Level for:\n",
            " - Accuracy: 2\n",
            " - Precision: 2\n",
            " - Recall: 2\n",
            " - F1 Score: 2\n"
          ]
        }
      ],
      "source": [
        "quantization_levels = [result[0] for result in evaluation_results]\n",
        "accuracies = [result[1] for result in evaluation_results]\n",
        "precisions = [result[2] for result in evaluation_results]\n",
        "recalls = [result[3] for result in evaluation_results]\n",
        "f1_scores = [result[4] for result in evaluation_results]\n",
        "\n",
        "# Plot evaluation metrics\n",
        "plt.figure(figsize=(8, 5))\n",
        "plt.plot(quantization_levels, accuracies, label='Accuracy')\n",
        "plt.plot(quantization_levels, precisions, label='Precision')\n",
        "plt.plot(quantization_levels, recalls, label='Recall')\n",
        "plt.plot(quantization_levels, f1_scores, label='F1 Score')\n",
        "plt.xlabel('Quantization Level')\n",
        "plt.ylabel('Evaluation Metric')\n",
        "plt.title('Evaluation Metrics vs. Quantization Level')\n",
        "plt.legend()\n",
        "plt.grid(True)\n",
        "plt.xticks(range(2, quantization_levels[-1] + 1))\n",
        "plt.show()\n",
        "\n",
        "best_accuracy_index = accuracies.index(max(accuracies))\n",
        "best_precision_index = precisions.index(max(precisions))\n",
        "best_recall_index = recalls.index(max(recalls))\n",
        "best_f1_score_index = f1_scores.index(max(f1_scores))\n",
        "\n",
        "best_accuracy_quantization = quantization_levels[best_accuracy_index]\n",
        "best_precision_quantization = quantization_levels[best_precision_index]\n",
        "best_recall_quantization = quantization_levels[best_recall_index]\n",
        "best_f1_score_quantization = quantization_levels[best_f1_score_index]\n",
        "\n",
        "print(\"Best Quantization Level for:\")\n",
        "print(\" - Accuracy:\", best_accuracy_quantization)\n",
        "print(\" - Precision:\", best_precision_quantization)\n",
        "print(\" - Recall:\", best_recall_quantization)\n",
        "print(\" - F1 Score:\", best_f1_score_quantization)\n"
      ]
    },
    {
      "cell_type": "markdown",
      "metadata": {
        "id": "wT43jGKV6CBZ"
      },
      "source": [
        "# Going a little further!"
      ]
    },
    {
      "cell_type": "markdown",
      "metadata": {
        "id": "Vo9uGo0R6GZo"
      },
      "source": [
        "First we download Adult income dataset from Kaggle! In order to do this create an account on this website, and create an API. A file named kaggle.json will be downloaded to your device. Then use the following code:"
      ]
    },
    {
      "cell_type": "code",
      "execution_count": 8,
      "metadata": {
        "colab": {
          "base_uri": "https://localhost:8080/",
          "height": 73
        },
        "id": "o-vrjYBF7u1E",
        "metadata": {},
        "outputId": "b274bc6e-4c35-4ad8-f17b-9e69f7d92923"
      },
      "outputs": [
        {
          "ename": "ModuleNotFoundError",
          "evalue": "No module named 'google.colab'",
          "output_type": "error",
          "traceback": [
            "\u001b[0;31m---------------------------------------------------------------------------\u001b[0m",
            "\u001b[0;31mModuleNotFoundError\u001b[0m                       Traceback (most recent call last)",
            "Cell \u001b[0;32mIn[8], line 1\u001b[0m\n\u001b[0;32m----> 1\u001b[0m \u001b[38;5;28;01mfrom\u001b[39;00m \u001b[38;5;21;01mgoogle\u001b[39;00m\u001b[38;5;21;01m.\u001b[39;00m\u001b[38;5;21;01mcolab\u001b[39;00m \u001b[38;5;28;01mimport\u001b[39;00m files\n\u001b[1;32m      2\u001b[0m files\u001b[38;5;241m.\u001b[39mupload()  \u001b[38;5;66;03m# Use this to select the kaggle.json file from your computer\u001b[39;00m\n\u001b[1;32m      3\u001b[0m get_ipython()\u001b[38;5;241m.\u001b[39msystem(\u001b[38;5;124m'\u001b[39m\u001b[38;5;124mmkdir -p ~/.kaggle\u001b[39m\u001b[38;5;124m'\u001b[39m)\n",
            "\u001b[0;31mModuleNotFoundError\u001b[0m: No module named 'google.colab'"
          ]
        }
      ],
      "source": [
        "from google.colab import files\n",
        "files.upload()  # Use this to select the kaggle.json file from your computer\n",
        "!mkdir -p ~/.kaggle\n",
        "!cp kaggle.json ~/.kaggle/\n",
        "!chmod 600 ~/.kaggle/kaggle.json"
      ]
    },
    {
      "cell_type": "markdown",
      "metadata": {
        "id": "5i6u6_1v8ftX"
      },
      "source": [
        "Then use this code to automatically download the dataset into Colab."
      ]
    },
    {
      "cell_type": "code",
      "execution_count": null,
      "metadata": {
        "colab": {
          "base_uri": "https://localhost:8080/"
        },
        "id": "XjyVaVKF29Hx",
        "outputId": "15d0b1a2-c806-4102-abbc-12545237e218"
      },
      "outputs": [
        {
          "name": "stdout",
          "output_type": "stream",
          "text": [
            "zsh:1: command not found: kaggle\n"
          ]
        },
        {
          "name": "stdout",
          "output_type": "stream",
          "text": [
            "unzip:  cannot find or open /content/adult-income-dataset.zip, /content/adult-income-dataset.zip.zip or /content/adult-income-dataset.zip.ZIP.\n"
          ]
        }
      ],
      "source": [
        "!kaggle datasets download -d wenruliu/adult-income-dataset\n",
        "!unzip /content/adult-income-dataset.zip"
      ]
    },
    {
      "cell_type": "markdown",
      "metadata": {},
      "source": [
        "**loading the dataset directly :**"
      ]
    },
    {
      "cell_type": "code",
      "execution_count": 9,
      "metadata": {
        "metadata": {}
      },
      "outputs": [],
      "source": [
        "adult_df = pd.read_csv('adult.csv', na_values='?')"
      ]
    },
    {
      "cell_type": "markdown",
      "metadata": {
        "id": "EXQnbZwt8rJK"
      },
      "source": [
        "**Task:** Determine the number of null entries!"
      ]
    },
    {
      "cell_type": "code",
      "execution_count": 10,
      "metadata": {
        "colab": {
          "base_uri": "https://localhost:8080/"
        },
        "id": "JtuEx6QW29c1",
        "metadata": {},
        "outputId": "43397bec-0622-4dc4-de2b-c65be00e4503"
      },
      "outputs": [
        {
          "name": "stdout",
          "output_type": "stream",
          "text": [
            "Total number of null entries: 6465\n"
          ]
        }
      ],
      "source": [
        "# Your code goes here!\n",
        "\n",
        "null_counts = adult_df.isnull().sum()\n",
        "total_null_entries = null_counts.sum()\n",
        "\n",
        "print(\"Total number of null entries:\", total_null_entries)"
      ]
    },
    {
      "cell_type": "markdown",
      "metadata": {
        "id": "JpEcBdTUAYVN"
      },
      "source": [
        "**Question:** In many widely used datasets there are a lot of null entries. Propose 5 methods by which, one could deal with this problem. Briefly explain how do you decide which one to use in this problem."
      ]
    },
    {
      "cell_type": "markdown",
      "metadata": {
        "id": "l1u1pBHuAsSg"
      },
      "source": [
        "**Your answer:**"
      ]
    },
    {
      "cell_type": "markdown",
      "metadata": {},
      "source": [
        "Dealing with null entries in datasets is crucial for ensuring the quality and reliability of data analysis. Here are five methods to handle null entries:\n",
        "\n",
        "1. **Dropping rows or columns**: Remove rows or columns with null entries. This method is straightforward but can lead to loss of valuable data, especially if there are many null entries.\n",
        "\n",
        "2. **Imputation**: Fill null entries with a specific value, such as the mean, median, mode, or a constant value. Imputation helps retain data while providing estimates for missing values. However, it may introduce bias if the imputed values are not representative of the true data distribution.\n",
        "\n",
        "3. **Forward or backward filling**: Fill null entries with the value from the previous or next non-null entry in the dataset. This method is useful for time-series data or datasets with a natural ordering. However, it may not be suitable for all types of data, especially if the order is not meaningful.\n",
        "\n",
        "4. **Interpolation**: Estimate missing values based on the values of neighboring data points. Interpolation methods include linear interpolation, polynomial interpolation, and spline interpolation. This approach works well for continuous data with a smooth trend but may not be suitable for irregular or noisy data.\n",
        "\n",
        "5. **Machine learning-based imputation**: Train a machine learning model to predict missing values based on other features in the dataset. Techniques like k-nearest neighbors (KNN) imputation, decision tree-based imputation, or deep learning-based imputation can be used. This method can capture complex relationships in the data but requires sufficient data and computational resources.\n",
        "\n",
        "Deciding which method to use depends on various factors, including the nature of the data, the extent of missingness, the underlying data distribution, and the intended analysis. Here are some considerations:\n",
        "\n",
        "- **Data distribution**: If the data distribution is skewed or contains outliers, median imputation or robust imputation methods may be more appropriate.\n",
        "  \n",
        "- **Data type**: Different imputation methods may be suitable for categorical and numerical data. For example, mode imputation may be used for categorical data, while mean or median imputation may be used for numerical data.\n",
        "\n",
        "- **Amount of missing data**: If the percentage of missing data is small, simple imputation methods like mean or median imputation may suffice. For larger percentages of missing data, more sophisticated imputation methods or dropping columns/rows may be necessary.\n",
        "\n",
        "- **Impact on analysis**: Consider how the chosen imputation method may affect downstream analysis. For example, imputation methods that introduce bias should be avoided if unbiased estimates are required.\n",
        "\n",
        "- **Domain knowledge**: Understanding the domain and context of the data can help in choosing appropriate imputation methods. For example, in medical datasets, imputation methods should align with clinical knowledge and practices.\n",
        "\n",
        "Ultimately, the choice of method should be guided by a balance between preserving data integrity and ensuring the validity of the analysis results. It may be beneficial to compare the performance of different imputation methods and assess their impact on the analysis outcome.\n"
      ]
    },
    {
      "cell_type": "markdown",
      "metadata": {
        "id": "eHhH-hkpAxFf"
      },
      "source": [
        "**Task:** Handle null entries using your best method."
      ]
    },
    {
      "cell_type": "code",
      "execution_count": 11,
      "metadata": {
        "colab": {
          "base_uri": "https://localhost:8080/",
          "height": 206
        },
        "id": "5fVwWcjK29fk",
        "metadata": {},
        "outputId": "c21a6adf-1e6c-46d0-dd61-79d1710272c1"
      },
      "outputs": [
        {
          "name": "stdout",
          "output_type": "stream",
          "text": [
            "Total number of null entries after dropping rows: 0\n"
          ]
        }
      ],
      "source": [
        "# Your code goes here!\n",
        "\n",
        "adult_df = adult_df.dropna(axis=0)\n",
        "\n",
        "null_counts = adult_df.isnull().sum().sum()\n",
        "print(\"Total number of null entries after dropping rows:\", null_counts)"
      ]
    },
    {
      "cell_type": "markdown",
      "metadata": {
        "id": "43k5cTorCJaV"
      },
      "source": [
        "**Task:** Convert categorical features to numerical values. Split the dataset with 80-20 portion. Normalize all the data using X_train. Use the built-in Logistic Regression function and GridSearchCV to train your model, and report the parameters, train and test accuracy of the best model."
      ]
    },
    {
      "cell_type": "code",
      "execution_count": 12,
      "metadata": {
        "metadata": {}
      },
      "outputs": [
        {
          "data": {
            "text/html": [
              "<div>\n",
              "<style scoped>\n",
              "    .dataframe tbody tr th:only-of-type {\n",
              "        vertical-align: middle;\n",
              "    }\n",
              "\n",
              "    .dataframe tbody tr th {\n",
              "        vertical-align: top;\n",
              "    }\n",
              "\n",
              "    .dataframe thead th {\n",
              "        text-align: right;\n",
              "    }\n",
              "</style>\n",
              "<table border=\"1\" class=\"dataframe\">\n",
              "  <thead>\n",
              "    <tr style=\"text-align: right;\">\n",
              "      <th></th>\n",
              "      <th>age</th>\n",
              "      <th>fnlwgt</th>\n",
              "      <th>educational-num</th>\n",
              "      <th>capital-gain</th>\n",
              "      <th>capital-loss</th>\n",
              "      <th>hours-per-week</th>\n",
              "      <th>workclass_Federal-gov</th>\n",
              "      <th>workclass_Local-gov</th>\n",
              "      <th>workclass_Private</th>\n",
              "      <th>workclass_Self-emp-inc</th>\n",
              "      <th>...</th>\n",
              "      <th>native-country_Scotland</th>\n",
              "      <th>native-country_South</th>\n",
              "      <th>native-country_Taiwan</th>\n",
              "      <th>native-country_Thailand</th>\n",
              "      <th>native-country_Trinadad&amp;Tobago</th>\n",
              "      <th>native-country_United-States</th>\n",
              "      <th>native-country_Vietnam</th>\n",
              "      <th>native-country_Yugoslavia</th>\n",
              "      <th>income_&lt;=50K</th>\n",
              "      <th>income_&gt;50K</th>\n",
              "    </tr>\n",
              "  </thead>\n",
              "  <tbody>\n",
              "    <tr>\n",
              "      <th>0</th>\n",
              "      <td>25</td>\n",
              "      <td>226802</td>\n",
              "      <td>7</td>\n",
              "      <td>0</td>\n",
              "      <td>0</td>\n",
              "      <td>40</td>\n",
              "      <td>False</td>\n",
              "      <td>False</td>\n",
              "      <td>True</td>\n",
              "      <td>False</td>\n",
              "      <td>...</td>\n",
              "      <td>False</td>\n",
              "      <td>False</td>\n",
              "      <td>False</td>\n",
              "      <td>False</td>\n",
              "      <td>False</td>\n",
              "      <td>True</td>\n",
              "      <td>False</td>\n",
              "      <td>False</td>\n",
              "      <td>True</td>\n",
              "      <td>False</td>\n",
              "    </tr>\n",
              "    <tr>\n",
              "      <th>1</th>\n",
              "      <td>38</td>\n",
              "      <td>89814</td>\n",
              "      <td>9</td>\n",
              "      <td>0</td>\n",
              "      <td>0</td>\n",
              "      <td>50</td>\n",
              "      <td>False</td>\n",
              "      <td>False</td>\n",
              "      <td>True</td>\n",
              "      <td>False</td>\n",
              "      <td>...</td>\n",
              "      <td>False</td>\n",
              "      <td>False</td>\n",
              "      <td>False</td>\n",
              "      <td>False</td>\n",
              "      <td>False</td>\n",
              "      <td>True</td>\n",
              "      <td>False</td>\n",
              "      <td>False</td>\n",
              "      <td>True</td>\n",
              "      <td>False</td>\n",
              "    </tr>\n",
              "    <tr>\n",
              "      <th>2</th>\n",
              "      <td>28</td>\n",
              "      <td>336951</td>\n",
              "      <td>12</td>\n",
              "      <td>0</td>\n",
              "      <td>0</td>\n",
              "      <td>40</td>\n",
              "      <td>False</td>\n",
              "      <td>True</td>\n",
              "      <td>False</td>\n",
              "      <td>False</td>\n",
              "      <td>...</td>\n",
              "      <td>False</td>\n",
              "      <td>False</td>\n",
              "      <td>False</td>\n",
              "      <td>False</td>\n",
              "      <td>False</td>\n",
              "      <td>True</td>\n",
              "      <td>False</td>\n",
              "      <td>False</td>\n",
              "      <td>False</td>\n",
              "      <td>True</td>\n",
              "    </tr>\n",
              "    <tr>\n",
              "      <th>3</th>\n",
              "      <td>44</td>\n",
              "      <td>160323</td>\n",
              "      <td>10</td>\n",
              "      <td>7688</td>\n",
              "      <td>0</td>\n",
              "      <td>40</td>\n",
              "      <td>False</td>\n",
              "      <td>False</td>\n",
              "      <td>True</td>\n",
              "      <td>False</td>\n",
              "      <td>...</td>\n",
              "      <td>False</td>\n",
              "      <td>False</td>\n",
              "      <td>False</td>\n",
              "      <td>False</td>\n",
              "      <td>False</td>\n",
              "      <td>True</td>\n",
              "      <td>False</td>\n",
              "      <td>False</td>\n",
              "      <td>False</td>\n",
              "      <td>True</td>\n",
              "    </tr>\n",
              "    <tr>\n",
              "      <th>5</th>\n",
              "      <td>34</td>\n",
              "      <td>198693</td>\n",
              "      <td>6</td>\n",
              "      <td>0</td>\n",
              "      <td>0</td>\n",
              "      <td>30</td>\n",
              "      <td>False</td>\n",
              "      <td>False</td>\n",
              "      <td>True</td>\n",
              "      <td>False</td>\n",
              "      <td>...</td>\n",
              "      <td>False</td>\n",
              "      <td>False</td>\n",
              "      <td>False</td>\n",
              "      <td>False</td>\n",
              "      <td>False</td>\n",
              "      <td>True</td>\n",
              "      <td>False</td>\n",
              "      <td>False</td>\n",
              "      <td>True</td>\n",
              "      <td>False</td>\n",
              "    </tr>\n",
              "  </tbody>\n",
              "</table>\n",
              "<p>5 rows × 106 columns</p>\n",
              "</div>"
            ],
            "text/plain": [
              "   age  fnlwgt  educational-num  capital-gain  capital-loss  hours-per-week  \\\n",
              "0   25  226802                7             0             0              40   \n",
              "1   38   89814                9             0             0              50   \n",
              "2   28  336951               12             0             0              40   \n",
              "3   44  160323               10          7688             0              40   \n",
              "5   34  198693                6             0             0              30   \n",
              "\n",
              "   workclass_Federal-gov  workclass_Local-gov  workclass_Private  \\\n",
              "0                  False                False               True   \n",
              "1                  False                False               True   \n",
              "2                  False                 True              False   \n",
              "3                  False                False               True   \n",
              "5                  False                False               True   \n",
              "\n",
              "   workclass_Self-emp-inc  ...  native-country_Scotland  native-country_South  \\\n",
              "0                   False  ...                    False                 False   \n",
              "1                   False  ...                    False                 False   \n",
              "2                   False  ...                    False                 False   \n",
              "3                   False  ...                    False                 False   \n",
              "5                   False  ...                    False                 False   \n",
              "\n",
              "   native-country_Taiwan  native-country_Thailand  \\\n",
              "0                  False                    False   \n",
              "1                  False                    False   \n",
              "2                  False                    False   \n",
              "3                  False                    False   \n",
              "5                  False                    False   \n",
              "\n",
              "   native-country_Trinadad&Tobago  native-country_United-States  \\\n",
              "0                           False                          True   \n",
              "1                           False                          True   \n",
              "2                           False                          True   \n",
              "3                           False                          True   \n",
              "5                           False                          True   \n",
              "\n",
              "   native-country_Vietnam  native-country_Yugoslavia  income_<=50K  \\\n",
              "0                   False                      False          True   \n",
              "1                   False                      False          True   \n",
              "2                   False                      False         False   \n",
              "3                   False                      False         False   \n",
              "5                   False                      False          True   \n",
              "\n",
              "   income_>50K  \n",
              "0        False  \n",
              "1        False  \n",
              "2         True  \n",
              "3         True  \n",
              "5        False  \n",
              "\n",
              "[5 rows x 106 columns]"
            ]
          },
          "execution_count": 12,
          "metadata": {},
          "output_type": "execute_result"
        }
      ],
      "source": [
        "adult_df_encoded = pd.get_dummies(adult_df)\n",
        "adult_df_encoded.head()"
      ]
    },
    {
      "cell_type": "code",
      "execution_count": 13,
      "metadata": {
        "metadata": {}
      },
      "outputs": [
        {
          "data": {
            "text/html": [
              "<div>\n",
              "<style scoped>\n",
              "    .dataframe tbody tr th:only-of-type {\n",
              "        vertical-align: middle;\n",
              "    }\n",
              "\n",
              "    .dataframe tbody tr th {\n",
              "        vertical-align: top;\n",
              "    }\n",
              "\n",
              "    .dataframe thead th {\n",
              "        text-align: right;\n",
              "    }\n",
              "</style>\n",
              "<table border=\"1\" class=\"dataframe\">\n",
              "  <thead>\n",
              "    <tr style=\"text-align: right;\">\n",
              "      <th></th>\n",
              "      <th>age</th>\n",
              "      <th>workclass</th>\n",
              "      <th>fnlwgt</th>\n",
              "      <th>education</th>\n",
              "      <th>educational-num</th>\n",
              "      <th>marital-status</th>\n",
              "      <th>occupation</th>\n",
              "      <th>relationship</th>\n",
              "      <th>race</th>\n",
              "      <th>gender</th>\n",
              "      <th>capital-gain</th>\n",
              "      <th>capital-loss</th>\n",
              "      <th>hours-per-week</th>\n",
              "      <th>native-country</th>\n",
              "      <th>income</th>\n",
              "    </tr>\n",
              "  </thead>\n",
              "  <tbody>\n",
              "    <tr>\n",
              "      <th>0</th>\n",
              "      <td>25</td>\n",
              "      <td>2</td>\n",
              "      <td>226802</td>\n",
              "      <td>1</td>\n",
              "      <td>7</td>\n",
              "      <td>4</td>\n",
              "      <td>6</td>\n",
              "      <td>3</td>\n",
              "      <td>2</td>\n",
              "      <td>1</td>\n",
              "      <td>0</td>\n",
              "      <td>0</td>\n",
              "      <td>40</td>\n",
              "      <td>38</td>\n",
              "      <td>0</td>\n",
              "    </tr>\n",
              "    <tr>\n",
              "      <th>1</th>\n",
              "      <td>38</td>\n",
              "      <td>2</td>\n",
              "      <td>89814</td>\n",
              "      <td>11</td>\n",
              "      <td>9</td>\n",
              "      <td>2</td>\n",
              "      <td>4</td>\n",
              "      <td>0</td>\n",
              "      <td>4</td>\n",
              "      <td>1</td>\n",
              "      <td>0</td>\n",
              "      <td>0</td>\n",
              "      <td>50</td>\n",
              "      <td>38</td>\n",
              "      <td>0</td>\n",
              "    </tr>\n",
              "    <tr>\n",
              "      <th>2</th>\n",
              "      <td>28</td>\n",
              "      <td>1</td>\n",
              "      <td>336951</td>\n",
              "      <td>7</td>\n",
              "      <td>12</td>\n",
              "      <td>2</td>\n",
              "      <td>10</td>\n",
              "      <td>0</td>\n",
              "      <td>4</td>\n",
              "      <td>1</td>\n",
              "      <td>0</td>\n",
              "      <td>0</td>\n",
              "      <td>40</td>\n",
              "      <td>38</td>\n",
              "      <td>1</td>\n",
              "    </tr>\n",
              "    <tr>\n",
              "      <th>3</th>\n",
              "      <td>44</td>\n",
              "      <td>2</td>\n",
              "      <td>160323</td>\n",
              "      <td>15</td>\n",
              "      <td>10</td>\n",
              "      <td>2</td>\n",
              "      <td>6</td>\n",
              "      <td>0</td>\n",
              "      <td>2</td>\n",
              "      <td>1</td>\n",
              "      <td>7688</td>\n",
              "      <td>0</td>\n",
              "      <td>40</td>\n",
              "      <td>38</td>\n",
              "      <td>1</td>\n",
              "    </tr>\n",
              "    <tr>\n",
              "      <th>5</th>\n",
              "      <td>34</td>\n",
              "      <td>2</td>\n",
              "      <td>198693</td>\n",
              "      <td>0</td>\n",
              "      <td>6</td>\n",
              "      <td>4</td>\n",
              "      <td>7</td>\n",
              "      <td>1</td>\n",
              "      <td>4</td>\n",
              "      <td>1</td>\n",
              "      <td>0</td>\n",
              "      <td>0</td>\n",
              "      <td>30</td>\n",
              "      <td>38</td>\n",
              "      <td>0</td>\n",
              "    </tr>\n",
              "  </tbody>\n",
              "</table>\n",
              "</div>"
            ],
            "text/plain": [
              "   age  workclass  fnlwgt  education  educational-num  marital-status  \\\n",
              "0   25          2  226802          1                7               4   \n",
              "1   38          2   89814         11                9               2   \n",
              "2   28          1  336951          7               12               2   \n",
              "3   44          2  160323         15               10               2   \n",
              "5   34          2  198693          0                6               4   \n",
              "\n",
              "   occupation  relationship  race  gender  capital-gain  capital-loss  \\\n",
              "0           6             3     2       1             0             0   \n",
              "1           4             0     4       1             0             0   \n",
              "2          10             0     4       1             0             0   \n",
              "3           6             0     2       1          7688             0   \n",
              "5           7             1     4       1             0             0   \n",
              "\n",
              "   hours-per-week  native-country  income  \n",
              "0              40              38       0  \n",
              "1              50              38       0  \n",
              "2              40              38       1  \n",
              "3              40              38       1  \n",
              "5              30              38       0  "
            ]
          },
          "execution_count": 13,
          "metadata": {},
          "output_type": "execute_result"
        }
      ],
      "source": [
        "label_encoder = LabelEncoder()\n",
        "\n",
        "for column in adult_df.select_dtypes(include=['object']).columns:\n",
        "    adult_df[column] = label_encoder.fit_transform(adult_df[column])\n",
        "\n",
        "adult_df.head()"
      ]
    },
    {
      "cell_type": "code",
      "execution_count": 14,
      "metadata": {
        "metadata": {}
      },
      "outputs": [
        {
          "name": "stderr",
          "output_type": "stream",
          "text": [
            "/Library/Frameworks/Python.framework/Versions/3.11/lib/python3.11/site-packages/sklearn/utils/optimize.py:211: ConvergenceWarning: newton-cg failed to converge. Increase the number of iterations.\n",
            "  warnings.warn(\n",
            "/Library/Frameworks/Python.framework/Versions/3.11/lib/python3.11/site-packages/sklearn/utils/optimize.py:211: ConvergenceWarning: newton-cg failed to converge. Increase the number of iterations.\n",
            "  warnings.warn(\n",
            "/Library/Frameworks/Python.framework/Versions/3.11/lib/python3.11/site-packages/scipy/optimize/_linesearch.py:466: LineSearchWarning: The line search algorithm did not converge\n",
            "  warn('The line search algorithm did not converge', LineSearchWarning)\n",
            "/Library/Frameworks/Python.framework/Versions/3.11/lib/python3.11/site-packages/scipy/optimize/_linesearch.py:314: LineSearchWarning: The line search algorithm did not converge\n",
            "  warn('The line search algorithm did not converge', LineSearchWarning)\n",
            "/Library/Frameworks/Python.framework/Versions/3.11/lib/python3.11/site-packages/sklearn/utils/optimize.py:211: ConvergenceWarning: newton-cg failed to converge. Increase the number of iterations.\n",
            "  warnings.warn(\n",
            "/Library/Frameworks/Python.framework/Versions/3.11/lib/python3.11/site-packages/scipy/optimize/_linesearch.py:466: LineSearchWarning: The line search algorithm did not converge\n",
            "  warn('The line search algorithm did not converge', LineSearchWarning)\n",
            "/Library/Frameworks/Python.framework/Versions/3.11/lib/python3.11/site-packages/scipy/optimize/_linesearch.py:314: LineSearchWarning: The line search algorithm did not converge\n",
            "  warn('The line search algorithm did not converge', LineSearchWarning)\n",
            "/Library/Frameworks/Python.framework/Versions/3.11/lib/python3.11/site-packages/sklearn/utils/optimize.py:211: ConvergenceWarning: newton-cg failed to converge. Increase the number of iterations.\n",
            "  warnings.warn(\n",
            "/Library/Frameworks/Python.framework/Versions/3.11/lib/python3.11/site-packages/scipy/optimize/_linesearch.py:466: LineSearchWarning: The line search algorithm did not converge\n",
            "  warn('The line search algorithm did not converge', LineSearchWarning)\n",
            "/Library/Frameworks/Python.framework/Versions/3.11/lib/python3.11/site-packages/scipy/optimize/_linesearch.py:314: LineSearchWarning: The line search algorithm did not converge\n",
            "  warn('The line search algorithm did not converge', LineSearchWarning)\n",
            "/Library/Frameworks/Python.framework/Versions/3.11/lib/python3.11/site-packages/sklearn/utils/optimize.py:211: ConvergenceWarning: newton-cg failed to converge. Increase the number of iterations.\n",
            "  warnings.warn(\n",
            "/Library/Frameworks/Python.framework/Versions/3.11/lib/python3.11/site-packages/sklearn/linear_model/_logistic.py:460: ConvergenceWarning: lbfgs failed to converge (status=1):\n",
            "STOP: TOTAL NO. of ITERATIONS REACHED LIMIT.\n",
            "\n",
            "Increase the number of iterations (max_iter) or scale the data as shown in:\n",
            "    https://scikit-learn.org/stable/modules/preprocessing.html\n",
            "Please also refer to the documentation for alternative solver options:\n",
            "    https://scikit-learn.org/stable/modules/linear_model.html#logistic-regression\n",
            "  n_iter_i = _check_optimize_result(\n",
            "/Library/Frameworks/Python.framework/Versions/3.11/lib/python3.11/site-packages/sklearn/linear_model/_sag.py:350: ConvergenceWarning: The max_iter was reached which means the coef_ did not converge\n",
            "  warnings.warn(\n",
            "/Library/Frameworks/Python.framework/Versions/3.11/lib/python3.11/site-packages/sklearn/linear_model/_sag.py:350: ConvergenceWarning: The max_iter was reached which means the coef_ did not converge\n",
            "  warnings.warn(\n",
            "/Library/Frameworks/Python.framework/Versions/3.11/lib/python3.11/site-packages/sklearn/linear_model/_sag.py:350: ConvergenceWarning: The max_iter was reached which means the coef_ did not converge\n",
            "  warnings.warn(\n",
            "/Library/Frameworks/Python.framework/Versions/3.11/lib/python3.11/site-packages/sklearn/linear_model/_sag.py:350: ConvergenceWarning: The max_iter was reached which means the coef_ did not converge\n",
            "  warnings.warn(\n",
            "/Library/Frameworks/Python.framework/Versions/3.11/lib/python3.11/site-packages/sklearn/linear_model/_sag.py:350: ConvergenceWarning: The max_iter was reached which means the coef_ did not converge\n",
            "  warnings.warn(\n",
            "/Library/Frameworks/Python.framework/Versions/3.11/lib/python3.11/site-packages/sklearn/linear_model/_sag.py:350: ConvergenceWarning: The max_iter was reached which means the coef_ did not converge\n",
            "  warnings.warn(\n",
            "/Library/Frameworks/Python.framework/Versions/3.11/lib/python3.11/site-packages/sklearn/linear_model/_sag.py:350: ConvergenceWarning: The max_iter was reached which means the coef_ did not converge\n",
            "  warnings.warn(\n",
            "/Library/Frameworks/Python.framework/Versions/3.11/lib/python3.11/site-packages/sklearn/linear_model/_sag.py:350: ConvergenceWarning: The max_iter was reached which means the coef_ did not converge\n",
            "  warnings.warn(\n",
            "/Library/Frameworks/Python.framework/Versions/3.11/lib/python3.11/site-packages/sklearn/linear_model/_sag.py:350: ConvergenceWarning: The max_iter was reached which means the coef_ did not converge\n",
            "  warnings.warn(\n",
            "/Library/Frameworks/Python.framework/Versions/3.11/lib/python3.11/site-packages/sklearn/linear_model/_sag.py:350: ConvergenceWarning: The max_iter was reached which means the coef_ did not converge\n",
            "  warnings.warn(\n",
            "/Library/Frameworks/Python.framework/Versions/3.11/lib/python3.11/site-packages/sklearn/utils/optimize.py:211: ConvergenceWarning: newton-cg failed to converge. Increase the number of iterations.\n",
            "  warnings.warn(\n",
            "/Library/Frameworks/Python.framework/Versions/3.11/lib/python3.11/site-packages/sklearn/utils/optimize.py:211: ConvergenceWarning: newton-cg failed to converge. Increase the number of iterations.\n",
            "  warnings.warn(\n",
            "/Library/Frameworks/Python.framework/Versions/3.11/lib/python3.11/site-packages/sklearn/utils/optimize.py:211: ConvergenceWarning: newton-cg failed to converge. Increase the number of iterations.\n",
            "  warnings.warn(\n",
            "/Library/Frameworks/Python.framework/Versions/3.11/lib/python3.11/site-packages/sklearn/utils/optimize.py:211: ConvergenceWarning: newton-cg failed to converge. Increase the number of iterations.\n",
            "  warnings.warn(\n",
            "/Library/Frameworks/Python.framework/Versions/3.11/lib/python3.11/site-packages/sklearn/utils/optimize.py:211: ConvergenceWarning: newton-cg failed to converge. Increase the number of iterations.\n",
            "  warnings.warn(\n",
            "/Library/Frameworks/Python.framework/Versions/3.11/lib/python3.11/site-packages/sklearn/linear_model/_logistic.py:460: ConvergenceWarning: lbfgs failed to converge (status=1):\n",
            "STOP: TOTAL NO. of ITERATIONS REACHED LIMIT.\n",
            "\n",
            "Increase the number of iterations (max_iter) or scale the data as shown in:\n",
            "    https://scikit-learn.org/stable/modules/preprocessing.html\n",
            "Please also refer to the documentation for alternative solver options:\n",
            "    https://scikit-learn.org/stable/modules/linear_model.html#logistic-regression\n",
            "  n_iter_i = _check_optimize_result(\n",
            "/Library/Frameworks/Python.framework/Versions/3.11/lib/python3.11/site-packages/sklearn/linear_model/_logistic.py:460: ConvergenceWarning: lbfgs failed to converge (status=1):\n",
            "STOP: TOTAL NO. of ITERATIONS REACHED LIMIT.\n",
            "\n",
            "Increase the number of iterations (max_iter) or scale the data as shown in:\n",
            "    https://scikit-learn.org/stable/modules/preprocessing.html\n",
            "Please also refer to the documentation for alternative solver options:\n",
            "    https://scikit-learn.org/stable/modules/linear_model.html#logistic-regression\n",
            "  n_iter_i = _check_optimize_result(\n",
            "/Library/Frameworks/Python.framework/Versions/3.11/lib/python3.11/site-packages/sklearn/linear_model/_sag.py:350: ConvergenceWarning: The max_iter was reached which means the coef_ did not converge\n",
            "  warnings.warn(\n",
            "/Library/Frameworks/Python.framework/Versions/3.11/lib/python3.11/site-packages/sklearn/linear_model/_sag.py:350: ConvergenceWarning: The max_iter was reached which means the coef_ did not converge\n",
            "  warnings.warn(\n",
            "/Library/Frameworks/Python.framework/Versions/3.11/lib/python3.11/site-packages/sklearn/linear_model/_sag.py:350: ConvergenceWarning: The max_iter was reached which means the coef_ did not converge\n",
            "  warnings.warn(\n",
            "/Library/Frameworks/Python.framework/Versions/3.11/lib/python3.11/site-packages/sklearn/linear_model/_sag.py:350: ConvergenceWarning: The max_iter was reached which means the coef_ did not converge\n",
            "  warnings.warn(\n",
            "/Library/Frameworks/Python.framework/Versions/3.11/lib/python3.11/site-packages/sklearn/linear_model/_sag.py:350: ConvergenceWarning: The max_iter was reached which means the coef_ did not converge\n",
            "  warnings.warn(\n",
            "/Library/Frameworks/Python.framework/Versions/3.11/lib/python3.11/site-packages/sklearn/linear_model/_sag.py:350: ConvergenceWarning: The max_iter was reached which means the coef_ did not converge\n",
            "  warnings.warn(\n",
            "/Library/Frameworks/Python.framework/Versions/3.11/lib/python3.11/site-packages/sklearn/linear_model/_sag.py:350: ConvergenceWarning: The max_iter was reached which means the coef_ did not converge\n",
            "  warnings.warn(\n",
            "/Library/Frameworks/Python.framework/Versions/3.11/lib/python3.11/site-packages/sklearn/linear_model/_sag.py:350: ConvergenceWarning: The max_iter was reached which means the coef_ did not converge\n",
            "  warnings.warn(\n",
            "/Library/Frameworks/Python.framework/Versions/3.11/lib/python3.11/site-packages/sklearn/linear_model/_sag.py:350: ConvergenceWarning: The max_iter was reached which means the coef_ did not converge\n",
            "  warnings.warn(\n",
            "/Library/Frameworks/Python.framework/Versions/3.11/lib/python3.11/site-packages/sklearn/linear_model/_sag.py:350: ConvergenceWarning: The max_iter was reached which means the coef_ did not converge\n",
            "  warnings.warn(\n",
            "/Library/Frameworks/Python.framework/Versions/3.11/lib/python3.11/site-packages/scipy/optimize/_linesearch.py:466: LineSearchWarning: The line search algorithm did not converge\n",
            "  warn('The line search algorithm did not converge', LineSearchWarning)\n",
            "/Library/Frameworks/Python.framework/Versions/3.11/lib/python3.11/site-packages/scipy/optimize/_linesearch.py:314: LineSearchWarning: The line search algorithm did not converge\n",
            "  warn('The line search algorithm did not converge', LineSearchWarning)\n",
            "/Library/Frameworks/Python.framework/Versions/3.11/lib/python3.11/site-packages/sklearn/utils/optimize.py:211: ConvergenceWarning: newton-cg failed to converge. Increase the number of iterations.\n",
            "  warnings.warn(\n",
            "/Library/Frameworks/Python.framework/Versions/3.11/lib/python3.11/site-packages/scipy/optimize/_linesearch.py:466: LineSearchWarning: The line search algorithm did not converge\n",
            "  warn('The line search algorithm did not converge', LineSearchWarning)\n",
            "/Library/Frameworks/Python.framework/Versions/3.11/lib/python3.11/site-packages/scipy/optimize/_linesearch.py:314: LineSearchWarning: The line search algorithm did not converge\n",
            "  warn('The line search algorithm did not converge', LineSearchWarning)\n",
            "/Library/Frameworks/Python.framework/Versions/3.11/lib/python3.11/site-packages/sklearn/utils/optimize.py:211: ConvergenceWarning: newton-cg failed to converge. Increase the number of iterations.\n",
            "  warnings.warn(\n",
            "/Library/Frameworks/Python.framework/Versions/3.11/lib/python3.11/site-packages/scipy/optimize/_linesearch.py:466: LineSearchWarning: The line search algorithm did not converge\n",
            "  warn('The line search algorithm did not converge', LineSearchWarning)\n",
            "/Library/Frameworks/Python.framework/Versions/3.11/lib/python3.11/site-packages/scipy/optimize/_linesearch.py:314: LineSearchWarning: The line search algorithm did not converge\n",
            "  warn('The line search algorithm did not converge', LineSearchWarning)\n",
            "/Library/Frameworks/Python.framework/Versions/3.11/lib/python3.11/site-packages/sklearn/utils/optimize.py:211: ConvergenceWarning: newton-cg failed to converge. Increase the number of iterations.\n",
            "  warnings.warn(\n",
            "/Library/Frameworks/Python.framework/Versions/3.11/lib/python3.11/site-packages/scipy/optimize/_linesearch.py:466: LineSearchWarning: The line search algorithm did not converge\n",
            "  warn('The line search algorithm did not converge', LineSearchWarning)\n",
            "/Library/Frameworks/Python.framework/Versions/3.11/lib/python3.11/site-packages/scipy/optimize/_linesearch.py:314: LineSearchWarning: The line search algorithm did not converge\n",
            "  warn('The line search algorithm did not converge', LineSearchWarning)\n",
            "/Library/Frameworks/Python.framework/Versions/3.11/lib/python3.11/site-packages/sklearn/utils/optimize.py:211: ConvergenceWarning: newton-cg failed to converge. Increase the number of iterations.\n",
            "  warnings.warn(\n",
            "/Library/Frameworks/Python.framework/Versions/3.11/lib/python3.11/site-packages/sklearn/utils/optimize.py:211: ConvergenceWarning: newton-cg failed to converge. Increase the number of iterations.\n",
            "  warnings.warn(\n",
            "/Library/Frameworks/Python.framework/Versions/3.11/lib/python3.11/site-packages/sklearn/linear_model/_logistic.py:460: ConvergenceWarning: lbfgs failed to converge (status=1):\n",
            "STOP: TOTAL NO. of ITERATIONS REACHED LIMIT.\n",
            "\n",
            "Increase the number of iterations (max_iter) or scale the data as shown in:\n",
            "    https://scikit-learn.org/stable/modules/preprocessing.html\n",
            "Please also refer to the documentation for alternative solver options:\n",
            "    https://scikit-learn.org/stable/modules/linear_model.html#logistic-regression\n",
            "  n_iter_i = _check_optimize_result(\n",
            "/Library/Frameworks/Python.framework/Versions/3.11/lib/python3.11/site-packages/sklearn/linear_model/_logistic.py:460: ConvergenceWarning: lbfgs failed to converge (status=1):\n",
            "STOP: TOTAL NO. of ITERATIONS REACHED LIMIT.\n",
            "\n",
            "Increase the number of iterations (max_iter) or scale the data as shown in:\n",
            "    https://scikit-learn.org/stable/modules/preprocessing.html\n",
            "Please also refer to the documentation for alternative solver options:\n",
            "    https://scikit-learn.org/stable/modules/linear_model.html#logistic-regression\n",
            "  n_iter_i = _check_optimize_result(\n",
            "/Library/Frameworks/Python.framework/Versions/3.11/lib/python3.11/site-packages/sklearn/linear_model/_sag.py:350: ConvergenceWarning: The max_iter was reached which means the coef_ did not converge\n",
            "  warnings.warn(\n",
            "/Library/Frameworks/Python.framework/Versions/3.11/lib/python3.11/site-packages/sklearn/linear_model/_sag.py:350: ConvergenceWarning: The max_iter was reached which means the coef_ did not converge\n",
            "  warnings.warn(\n",
            "/Library/Frameworks/Python.framework/Versions/3.11/lib/python3.11/site-packages/sklearn/linear_model/_sag.py:350: ConvergenceWarning: The max_iter was reached which means the coef_ did not converge\n",
            "  warnings.warn(\n",
            "/Library/Frameworks/Python.framework/Versions/3.11/lib/python3.11/site-packages/sklearn/linear_model/_sag.py:350: ConvergenceWarning: The max_iter was reached which means the coef_ did not converge\n",
            "  warnings.warn(\n",
            "/Library/Frameworks/Python.framework/Versions/3.11/lib/python3.11/site-packages/sklearn/linear_model/_sag.py:350: ConvergenceWarning: The max_iter was reached which means the coef_ did not converge\n",
            "  warnings.warn(\n",
            "/Library/Frameworks/Python.framework/Versions/3.11/lib/python3.11/site-packages/sklearn/linear_model/_sag.py:350: ConvergenceWarning: The max_iter was reached which means the coef_ did not converge\n",
            "  warnings.warn(\n",
            "/Library/Frameworks/Python.framework/Versions/3.11/lib/python3.11/site-packages/sklearn/linear_model/_sag.py:350: ConvergenceWarning: The max_iter was reached which means the coef_ did not converge\n",
            "  warnings.warn(\n",
            "/Library/Frameworks/Python.framework/Versions/3.11/lib/python3.11/site-packages/sklearn/linear_model/_sag.py:350: ConvergenceWarning: The max_iter was reached which means the coef_ did not converge\n",
            "  warnings.warn(\n",
            "/Library/Frameworks/Python.framework/Versions/3.11/lib/python3.11/site-packages/sklearn/linear_model/_sag.py:350: ConvergenceWarning: The max_iter was reached which means the coef_ did not converge\n",
            "  warnings.warn(\n",
            "/Library/Frameworks/Python.framework/Versions/3.11/lib/python3.11/site-packages/sklearn/linear_model/_sag.py:350: ConvergenceWarning: The max_iter was reached which means the coef_ did not converge\n",
            "  warnings.warn(\n",
            "/Library/Frameworks/Python.framework/Versions/3.11/lib/python3.11/site-packages/scipy/optimize/_linesearch.py:466: LineSearchWarning: The line search algorithm did not converge\n",
            "  warn('The line search algorithm did not converge', LineSearchWarning)\n",
            "/Library/Frameworks/Python.framework/Versions/3.11/lib/python3.11/site-packages/scipy/optimize/_linesearch.py:314: LineSearchWarning: The line search algorithm did not converge\n",
            "  warn('The line search algorithm did not converge', LineSearchWarning)\n",
            "/Library/Frameworks/Python.framework/Versions/3.11/lib/python3.11/site-packages/sklearn/utils/optimize.py:211: ConvergenceWarning: newton-cg failed to converge. Increase the number of iterations.\n",
            "  warnings.warn(\n",
            "/Library/Frameworks/Python.framework/Versions/3.11/lib/python3.11/site-packages/sklearn/utils/optimize.py:211: ConvergenceWarning: newton-cg failed to converge. Increase the number of iterations.\n",
            "  warnings.warn(\n",
            "/Library/Frameworks/Python.framework/Versions/3.11/lib/python3.11/site-packages/sklearn/utils/optimize.py:211: ConvergenceWarning: newton-cg failed to converge. Increase the number of iterations.\n",
            "  warnings.warn(\n",
            "/Library/Frameworks/Python.framework/Versions/3.11/lib/python3.11/site-packages/scipy/optimize/_linesearch.py:466: LineSearchWarning: The line search algorithm did not converge\n",
            "  warn('The line search algorithm did not converge', LineSearchWarning)\n",
            "/Library/Frameworks/Python.framework/Versions/3.11/lib/python3.11/site-packages/scipy/optimize/_linesearch.py:314: LineSearchWarning: The line search algorithm did not converge\n",
            "  warn('The line search algorithm did not converge', LineSearchWarning)\n",
            "/Library/Frameworks/Python.framework/Versions/3.11/lib/python3.11/site-packages/sklearn/utils/optimize.py:211: ConvergenceWarning: newton-cg failed to converge. Increase the number of iterations.\n",
            "  warnings.warn(\n",
            "/Library/Frameworks/Python.framework/Versions/3.11/lib/python3.11/site-packages/sklearn/utils/optimize.py:211: ConvergenceWarning: newton-cg failed to converge. Increase the number of iterations.\n",
            "  warnings.warn(\n",
            "/Library/Frameworks/Python.framework/Versions/3.11/lib/python3.11/site-packages/sklearn/linear_model/_logistic.py:460: ConvergenceWarning: lbfgs failed to converge (status=1):\n",
            "STOP: TOTAL NO. of ITERATIONS REACHED LIMIT.\n",
            "\n",
            "Increase the number of iterations (max_iter) or scale the data as shown in:\n",
            "    https://scikit-learn.org/stable/modules/preprocessing.html\n",
            "Please also refer to the documentation for alternative solver options:\n",
            "    https://scikit-learn.org/stable/modules/linear_model.html#logistic-regression\n",
            "  n_iter_i = _check_optimize_result(\n",
            "/Library/Frameworks/Python.framework/Versions/3.11/lib/python3.11/site-packages/sklearn/linear_model/_sag.py:350: ConvergenceWarning: The max_iter was reached which means the coef_ did not converge\n",
            "  warnings.warn(\n",
            "/Library/Frameworks/Python.framework/Versions/3.11/lib/python3.11/site-packages/sklearn/linear_model/_sag.py:350: ConvergenceWarning: The max_iter was reached which means the coef_ did not converge\n",
            "  warnings.warn(\n",
            "/Library/Frameworks/Python.framework/Versions/3.11/lib/python3.11/site-packages/sklearn/linear_model/_sag.py:350: ConvergenceWarning: The max_iter was reached which means the coef_ did not converge\n",
            "  warnings.warn(\n",
            "/Library/Frameworks/Python.framework/Versions/3.11/lib/python3.11/site-packages/sklearn/linear_model/_sag.py:350: ConvergenceWarning: The max_iter was reached which means the coef_ did not converge\n",
            "  warnings.warn(\n",
            "/Library/Frameworks/Python.framework/Versions/3.11/lib/python3.11/site-packages/sklearn/linear_model/_sag.py:350: ConvergenceWarning: The max_iter was reached which means the coef_ did not converge\n",
            "  warnings.warn(\n",
            "/Library/Frameworks/Python.framework/Versions/3.11/lib/python3.11/site-packages/sklearn/linear_model/_sag.py:350: ConvergenceWarning: The max_iter was reached which means the coef_ did not converge\n",
            "  warnings.warn(\n",
            "/Library/Frameworks/Python.framework/Versions/3.11/lib/python3.11/site-packages/sklearn/linear_model/_sag.py:350: ConvergenceWarning: The max_iter was reached which means the coef_ did not converge\n",
            "  warnings.warn(\n",
            "/Library/Frameworks/Python.framework/Versions/3.11/lib/python3.11/site-packages/sklearn/linear_model/_sag.py:350: ConvergenceWarning: The max_iter was reached which means the coef_ did not converge\n",
            "  warnings.warn(\n",
            "/Library/Frameworks/Python.framework/Versions/3.11/lib/python3.11/site-packages/sklearn/linear_model/_sag.py:350: ConvergenceWarning: The max_iter was reached which means the coef_ did not converge\n",
            "  warnings.warn(\n",
            "/Library/Frameworks/Python.framework/Versions/3.11/lib/python3.11/site-packages/sklearn/linear_model/_sag.py:350: ConvergenceWarning: The max_iter was reached which means the coef_ did not converge\n",
            "  warnings.warn(\n",
            "/Library/Frameworks/Python.framework/Versions/3.11/lib/python3.11/site-packages/scipy/optimize/_linesearch.py:466: LineSearchWarning: The line search algorithm did not converge\n",
            "  warn('The line search algorithm did not converge', LineSearchWarning)\n",
            "/Library/Frameworks/Python.framework/Versions/3.11/lib/python3.11/site-packages/scipy/optimize/_linesearch.py:314: LineSearchWarning: The line search algorithm did not converge\n",
            "  warn('The line search algorithm did not converge', LineSearchWarning)\n",
            "/Library/Frameworks/Python.framework/Versions/3.11/lib/python3.11/site-packages/sklearn/utils/optimize.py:211: ConvergenceWarning: newton-cg failed to converge. Increase the number of iterations.\n",
            "  warnings.warn(\n",
            "/Library/Frameworks/Python.framework/Versions/3.11/lib/python3.11/site-packages/scipy/optimize/_linesearch.py:466: LineSearchWarning: The line search algorithm did not converge\n",
            "  warn('The line search algorithm did not converge', LineSearchWarning)\n",
            "/Library/Frameworks/Python.framework/Versions/3.11/lib/python3.11/site-packages/scipy/optimize/_linesearch.py:314: LineSearchWarning: The line search algorithm did not converge\n",
            "  warn('The line search algorithm did not converge', LineSearchWarning)\n",
            "/Library/Frameworks/Python.framework/Versions/3.11/lib/python3.11/site-packages/sklearn/utils/optimize.py:211: ConvergenceWarning: newton-cg failed to converge. Increase the number of iterations.\n",
            "  warnings.warn(\n",
            "/Library/Frameworks/Python.framework/Versions/3.11/lib/python3.11/site-packages/sklearn/utils/optimize.py:211: ConvergenceWarning: newton-cg failed to converge. Increase the number of iterations.\n",
            "  warnings.warn(\n",
            "/Library/Frameworks/Python.framework/Versions/3.11/lib/python3.11/site-packages/sklearn/utils/optimize.py:211: ConvergenceWarning: newton-cg failed to converge. Increase the number of iterations.\n",
            "  warnings.warn(\n",
            "/Library/Frameworks/Python.framework/Versions/3.11/lib/python3.11/site-packages/sklearn/utils/optimize.py:211: ConvergenceWarning: newton-cg failed to converge. Increase the number of iterations.\n",
            "  warnings.warn(\n",
            "/Library/Frameworks/Python.framework/Versions/3.11/lib/python3.11/site-packages/sklearn/linear_model/_logistic.py:460: ConvergenceWarning: lbfgs failed to converge (status=1):\n",
            "STOP: TOTAL NO. of ITERATIONS REACHED LIMIT.\n",
            "\n",
            "Increase the number of iterations (max_iter) or scale the data as shown in:\n",
            "    https://scikit-learn.org/stable/modules/preprocessing.html\n",
            "Please also refer to the documentation for alternative solver options:\n",
            "    https://scikit-learn.org/stable/modules/linear_model.html#logistic-regression\n",
            "  n_iter_i = _check_optimize_result(\n",
            "/Library/Frameworks/Python.framework/Versions/3.11/lib/python3.11/site-packages/sklearn/linear_model/_logistic.py:460: ConvergenceWarning: lbfgs failed to converge (status=1):\n",
            "STOP: TOTAL NO. of ITERATIONS REACHED LIMIT.\n",
            "\n",
            "Increase the number of iterations (max_iter) or scale the data as shown in:\n",
            "    https://scikit-learn.org/stable/modules/preprocessing.html\n",
            "Please also refer to the documentation for alternative solver options:\n",
            "    https://scikit-learn.org/stable/modules/linear_model.html#logistic-regression\n",
            "  n_iter_i = _check_optimize_result(\n",
            "/Library/Frameworks/Python.framework/Versions/3.11/lib/python3.11/site-packages/sklearn/linear_model/_sag.py:350: ConvergenceWarning: The max_iter was reached which means the coef_ did not converge\n",
            "  warnings.warn(\n",
            "/Library/Frameworks/Python.framework/Versions/3.11/lib/python3.11/site-packages/sklearn/linear_model/_sag.py:350: ConvergenceWarning: The max_iter was reached which means the coef_ did not converge\n",
            "  warnings.warn(\n",
            "/Library/Frameworks/Python.framework/Versions/3.11/lib/python3.11/site-packages/sklearn/linear_model/_sag.py:350: ConvergenceWarning: The max_iter was reached which means the coef_ did not converge\n",
            "  warnings.warn(\n",
            "/Library/Frameworks/Python.framework/Versions/3.11/lib/python3.11/site-packages/sklearn/linear_model/_sag.py:350: ConvergenceWarning: The max_iter was reached which means the coef_ did not converge\n",
            "  warnings.warn(\n",
            "/Library/Frameworks/Python.framework/Versions/3.11/lib/python3.11/site-packages/sklearn/linear_model/_sag.py:350: ConvergenceWarning: The max_iter was reached which means the coef_ did not converge\n",
            "  warnings.warn(\n",
            "/Library/Frameworks/Python.framework/Versions/3.11/lib/python3.11/site-packages/sklearn/linear_model/_sag.py:350: ConvergenceWarning: The max_iter was reached which means the coef_ did not converge\n",
            "  warnings.warn(\n",
            "/Library/Frameworks/Python.framework/Versions/3.11/lib/python3.11/site-packages/sklearn/linear_model/_sag.py:350: ConvergenceWarning: The max_iter was reached which means the coef_ did not converge\n",
            "  warnings.warn(\n",
            "/Library/Frameworks/Python.framework/Versions/3.11/lib/python3.11/site-packages/sklearn/linear_model/_sag.py:350: ConvergenceWarning: The max_iter was reached which means the coef_ did not converge\n",
            "  warnings.warn(\n",
            "/Library/Frameworks/Python.framework/Versions/3.11/lib/python3.11/site-packages/sklearn/linear_model/_sag.py:350: ConvergenceWarning: The max_iter was reached which means the coef_ did not converge\n",
            "  warnings.warn(\n",
            "/Library/Frameworks/Python.framework/Versions/3.11/lib/python3.11/site-packages/sklearn/linear_model/_sag.py:350: ConvergenceWarning: The max_iter was reached which means the coef_ did not converge\n",
            "  warnings.warn(\n",
            "/Library/Frameworks/Python.framework/Versions/3.11/lib/python3.11/site-packages/scipy/optimize/_linesearch.py:466: LineSearchWarning: The line search algorithm did not converge\n",
            "  warn('The line search algorithm did not converge', LineSearchWarning)\n",
            "/Library/Frameworks/Python.framework/Versions/3.11/lib/python3.11/site-packages/scipy/optimize/_linesearch.py:314: LineSearchWarning: The line search algorithm did not converge\n",
            "  warn('The line search algorithm did not converge', LineSearchWarning)\n",
            "/Library/Frameworks/Python.framework/Versions/3.11/lib/python3.11/site-packages/sklearn/utils/optimize.py:211: ConvergenceWarning: newton-cg failed to converge. Increase the number of iterations.\n",
            "  warnings.warn(\n",
            "/Library/Frameworks/Python.framework/Versions/3.11/lib/python3.11/site-packages/sklearn/utils/optimize.py:211: ConvergenceWarning: newton-cg failed to converge. Increase the number of iterations.\n",
            "  warnings.warn(\n",
            "/Library/Frameworks/Python.framework/Versions/3.11/lib/python3.11/site-packages/sklearn/utils/optimize.py:211: ConvergenceWarning: newton-cg failed to converge. Increase the number of iterations.\n",
            "  warnings.warn(\n",
            "/Library/Frameworks/Python.framework/Versions/3.11/lib/python3.11/site-packages/sklearn/utils/optimize.py:211: ConvergenceWarning: newton-cg failed to converge. Increase the number of iterations.\n",
            "  warnings.warn(\n",
            "/Library/Frameworks/Python.framework/Versions/3.11/lib/python3.11/site-packages/scipy/optimize/_linesearch.py:466: LineSearchWarning: The line search algorithm did not converge\n",
            "  warn('The line search algorithm did not converge', LineSearchWarning)\n",
            "/Library/Frameworks/Python.framework/Versions/3.11/lib/python3.11/site-packages/scipy/optimize/_linesearch.py:314: LineSearchWarning: The line search algorithm did not converge\n",
            "  warn('The line search algorithm did not converge', LineSearchWarning)\n",
            "/Library/Frameworks/Python.framework/Versions/3.11/lib/python3.11/site-packages/sklearn/utils/optimize.py:211: ConvergenceWarning: newton-cg failed to converge. Increase the number of iterations.\n",
            "  warnings.warn(\n",
            "/Library/Frameworks/Python.framework/Versions/3.11/lib/python3.11/site-packages/sklearn/linear_model/_logistic.py:460: ConvergenceWarning: lbfgs failed to converge (status=1):\n",
            "STOP: TOTAL NO. of ITERATIONS REACHED LIMIT.\n",
            "\n",
            "Increase the number of iterations (max_iter) or scale the data as shown in:\n",
            "    https://scikit-learn.org/stable/modules/preprocessing.html\n",
            "Please also refer to the documentation for alternative solver options:\n",
            "    https://scikit-learn.org/stable/modules/linear_model.html#logistic-regression\n",
            "  n_iter_i = _check_optimize_result(\n",
            "/Library/Frameworks/Python.framework/Versions/3.11/lib/python3.11/site-packages/sklearn/linear_model/_sag.py:350: ConvergenceWarning: The max_iter was reached which means the coef_ did not converge\n",
            "  warnings.warn(\n",
            "/Library/Frameworks/Python.framework/Versions/3.11/lib/python3.11/site-packages/sklearn/linear_model/_sag.py:350: ConvergenceWarning: The max_iter was reached which means the coef_ did not converge\n",
            "  warnings.warn(\n",
            "/Library/Frameworks/Python.framework/Versions/3.11/lib/python3.11/site-packages/sklearn/linear_model/_sag.py:350: ConvergenceWarning: The max_iter was reached which means the coef_ did not converge\n",
            "  warnings.warn(\n",
            "/Library/Frameworks/Python.framework/Versions/3.11/lib/python3.11/site-packages/sklearn/linear_model/_sag.py:350: ConvergenceWarning: The max_iter was reached which means the coef_ did not converge\n",
            "  warnings.warn(\n",
            "/Library/Frameworks/Python.framework/Versions/3.11/lib/python3.11/site-packages/sklearn/linear_model/_sag.py:350: ConvergenceWarning: The max_iter was reached which means the coef_ did not converge\n",
            "  warnings.warn(\n",
            "/Library/Frameworks/Python.framework/Versions/3.11/lib/python3.11/site-packages/sklearn/linear_model/_sag.py:350: ConvergenceWarning: The max_iter was reached which means the coef_ did not converge\n",
            "  warnings.warn(\n",
            "/Library/Frameworks/Python.framework/Versions/3.11/lib/python3.11/site-packages/sklearn/linear_model/_sag.py:350: ConvergenceWarning: The max_iter was reached which means the coef_ did not converge\n",
            "  warnings.warn(\n",
            "/Library/Frameworks/Python.framework/Versions/3.11/lib/python3.11/site-packages/sklearn/linear_model/_sag.py:350: ConvergenceWarning: The max_iter was reached which means the coef_ did not converge\n",
            "  warnings.warn(\n",
            "/Library/Frameworks/Python.framework/Versions/3.11/lib/python3.11/site-packages/sklearn/linear_model/_sag.py:350: ConvergenceWarning: The max_iter was reached which means the coef_ did not converge\n",
            "  warnings.warn(\n",
            "/Library/Frameworks/Python.framework/Versions/3.11/lib/python3.11/site-packages/sklearn/linear_model/_sag.py:350: ConvergenceWarning: The max_iter was reached which means the coef_ did not converge\n",
            "  warnings.warn(\n",
            "/Library/Frameworks/Python.framework/Versions/3.11/lib/python3.11/site-packages/sklearn/utils/optimize.py:211: ConvergenceWarning: newton-cg failed to converge. Increase the number of iterations.\n",
            "  warnings.warn(\n"
          ]
        }
      ],
      "source": [
        "X = adult_df.drop(columns=['income'])\n",
        "y = adult_df['income']\n",
        "\n",
        "X_train, X_test, y_train, y_test = train_test_split(X, y, test_size=0.2, random_state=42)\n",
        "\n",
        "scaler = StandardScaler()\n",
        "X_train_scaled = scaler.fit_transform(X_train)\n",
        "X_test_scaled = scaler.transform(X_test)\n",
        "\n",
        "parameters = {\n",
        "    'C': [0.001, 0.01, 0.1, 1, 10, 100],\n",
        "    'solver': ['liblinear', 'newton-cg', 'lbfgs', 'sag', 'saga']\n",
        "}\n",
        "\n",
        "logistic_regression = LogisticRegression()\n",
        "\n",
        "grid_search = GridSearchCV(logistic_regression, parameters, cv=5, scoring='accuracy')\n",
        "grid_search.fit(X_train, y_train)\n",
        "\n",
        "best_params = grid_search.best_params_\n",
        "best_score = grid_search.best_score_\n",
        "\n",
        "train_accuracy = grid_search.score(X_train, y_train)\n",
        "\n",
        "test_accuracy = grid_search.score(X_test, y_test)"
      ]
    },
    {
      "cell_type": "code",
      "execution_count": 15,
      "metadata": {
        "metadata": {}
      },
      "outputs": [
        {
          "name": "stdout",
          "output_type": "stream",
          "text": [
            "Best Parameters: {'C': 0.01, 'solver': 'newton-cg'}\n",
            "Best Training Accuracy: 81.89 %\n",
            "Best Test Accuracy: 82.29 %\n"
          ]
        }
      ],
      "source": [
        "print(\"Best Parameters:\", best_params)\n",
        "print(\"Best Training Accuracy:\", round(train_accuracy * 100, 2), \"%\")\n",
        "print(\"Best Test Accuracy:\", round(test_accuracy * 100, 2), \"%\")"
      ]
    },
    {
      "cell_type": "markdown",
      "metadata": {
        "id": "6Lzr2lqXDQ1T"
      },
      "source": [
        "**Task:** To try a different route, split X_train into $i$ parts, and train $i$ separate models on these parts. Now propose and implement 3 different *ensemble methods* to derive the global models' prediction for X_test using the results(not necessarily predictions!) of the $i$ models. Firstly, set $i=10$ to find the method with the best test accuracy(the answer is not general!). You must Use your own Logistic Regression model.(You might want to modify it a little bit for this part!)"
      ]
    },
    {
      "cell_type": "code",
      "execution_count": 16,
      "metadata": {
        "id": "K9D1jlstF9nF",
        "metadata": {}
      },
      "outputs": [
        {
          "name": "stderr",
          "output_type": "stream",
          "text": [
            "/Library/Frameworks/Python.framework/Versions/3.11/lib/python3.11/site-packages/numpy/core/fromnumeric.py:59: FutureWarning: 'Series.swapaxes' is deprecated and will be removed in a future version. Please use 'Series.transpose' instead.\n",
            "  return bound(*args, **kwds)\n"
          ]
        }
      ],
      "source": [
        "def train_models(X_train, y_train, num_models=10):\n",
        "    models = []\n",
        "    input_dim = X_train.shape[1]\n",
        "    \n",
        "    X_train_parts = np.array_split(X_train, num_models)\n",
        "    y_train_parts = np.array_split(y_train, num_models)\n",
        "    \n",
        "    for X_part, y_part in zip(X_train_parts, y_train_parts):\n",
        "        model = MyLogisticRegression(input_dim, learning_rate=0.01)\n",
        "        model.fit(X_part, y_part)\n",
        "        models.append(model)\n",
        "    \n",
        "    return models\n",
        "\n",
        "\n",
        "def evaluate_majority_voting(models, X_test):\n",
        "    predictions = np.array([model.predict(X_test) for model in models])\n",
        "    ensemble_predictions = np.mean(predictions, axis=0) >= 0.5\n",
        "    return ensemble_predictions.astype(int)\n",
        "\n",
        "\n",
        "def evaluate_average_probabilities(models, X_test):\n",
        "    probabilities = np.array([model.predict_probability(X_test) for model in models])\n",
        "    average_prob = np.mean(probabilities, axis=0)\n",
        "    ensemble_predictions = average_prob >= 0.5\n",
        "    return ensemble_predictions.astype(int)\n",
        "\n",
        "\n",
        "def evaluate_weighted_average_probabilities(models, X_test, y_train_parts):\n",
        "    weights = [accuracy_score(y_part, model.predict(X_part)) for X_part, y_part, model in zip(X_train_parts, y_train_parts, models)]\n",
        "    probabilities = np.array([model.predict_probability(X_test) for model in models])\n",
        "    weighted_average_prob = np.average(probabilities, axis=0, weights=weights)\n",
        "    ensemble_predictions = weighted_average_prob >= 0.5\n",
        "    return ensemble_predictions.astype(int)\n",
        "\n",
        "\n",
        "num_models = 10\n",
        "models = train_models(X_train_scaled, y_train, num_models)\n",
        "\n",
        "X_train_parts = np.array_split(X_train_scaled, num_models)\n",
        "y_train_parts = np.array_split(y_train, num_models)\n",
        "\n",
        "# Evaluate ensemble methods on test set\n",
        "# X_test_scaled = scaler.transform(X_test)\n",
        "y_pred_majority_voting = evaluate_majority_voting(models, X_test_scaled)\n",
        "y_pred_average_probabilities = evaluate_average_probabilities(models, X_test_scaled)\n",
        "y_pred_weighted_average_probabilities = evaluate_weighted_average_probabilities(models, X_test_scaled, y_train_parts)\n",
        "\n",
        "# Calculate test accuracy\n",
        "accuracy_majority_voting = accuracy_score(y_test, y_pred_majority_voting)\n",
        "accuracy_average_probabilities = accuracy_score(y_test, y_pred_average_probabilities)\n",
        "accuracy_weighted_average_probabilities = accuracy_score(y_test, y_pred_weighted_average_probabilities)\n"
      ]
    },
    {
      "cell_type": "code",
      "execution_count": 17,
      "metadata": {
        "metadata": {}
      },
      "outputs": [
        {
          "name": "stdout",
          "output_type": "stream",
          "text": [
            "Test Accuracy (Majority Voting): 81.4262023217247\n",
            "Test Accuracy (Average Probabilities): 81.39303482587064\n",
            "Test Accuracy (Weighted Average Probabilities): 81.39303482587064\n"
          ]
        }
      ],
      "source": [
        "print(\"Test Accuracy (Majority Voting):\", accuracy_majority_voting * 100)\n",
        "print(\"Test Accuracy (Average Probabilities):\", accuracy_average_probabilities * 100)\n",
        "print(\"Test Accuracy (Weighted Average Probabilities):\", accuracy_weighted_average_probabilities * 100)"
      ]
    },
    {
      "cell_type": "markdown",
      "metadata": {
        "id": "9QS9HYJ5FW1T"
      },
      "source": [
        "**Question:** Explain your proposed methods and the reason you decided to use them!"
      ]
    },
    {
      "cell_type": "markdown",
      "metadata": {
        "id": "6hCBQuAeF46a"
      },
      "source": [
        "**Your answer:**"
      ]
    },
    {
      "cell_type": "markdown",
      "metadata": {},
      "source": [
        "1. **evaluate_majority_voting**:\n",
        "   - This method implements a majority voting ensemble strategy. It takes a list of models and the test data `X_test` as input.\n",
        "   - For each model in the list, it generates predictions on the test data using the `predict` method.\n",
        "   - It then calculates the mean of these predictions across all models along the rows (axis=0) and checks if the mean prediction is greater than or equal to 0.5 (which corresponds to the majority class).\n",
        "   - The result is a binary array where each element represents the majority vote for each sample in the test data.\n",
        "   - Finally, it converts the binary array to integers (0 or 1) and returns the ensemble predictions.\n",
        "   - It leverages the idea that aggregating predictions from multiple models can reduce individual errors.\n",
        "   - By taking the majority vote of predictions, it aims to make more robust predictions, especially when individual models may have different biases or make errors on different samples.\n",
        "\n",
        "2. **evaluate_average_probabilities**:\n",
        "   - This method implements an ensemble strategy based on averaging probabilities. It takes a list of models and the test data `X_test` as input.\n",
        "   - For each model in the list, it generates probability predictions on the test data using the `predict_probability` method (assuming the method returns probability predictions).\n",
        "   - It then calculates the mean of these probabilities across all models along the rows (axis=0) to get the average probability for each sample.\n",
        "   - It compares these average probabilities with a threshold of 0.5 to make binary predictions.\n",
        "   - Finally, it converts the binary array to integers (0 or 1) and returns the ensemble predictions.\n",
        "   - Instead of making binary decisions directly, it considers the confidence or probability estimates from each model.\n",
        "   - Averaging probabilities smooths out individual model biases and uncertainties, leading to more reliable predictions, especially when models are well-calibrated.\n",
        "\n",
        "\n",
        "3. **evaluate_weighted_average_probabilities**:\n",
        "   - This method implements an ensemble strategy based on weighted averaging of probabilities. It takes a list of models, the test data `X_test`, and `y_train_parts` (which seems to be the labels split into parts) as input.\n",
        "   - It calculates weights for each model based on the accuracy of that model on its corresponding training part.\n",
        "   - For each model in the list, it generates probability predictions on the test data using the `predict_probability` method.\n",
        "   - It then calculates the weighted average of these probabilities across all models along the rows (axis=0).\n",
        "   - Similar to the previous methods, it compares these weighted average probabilities with a threshold of 0.5 to make binary predictions.\n",
        "   - Finally, it converts the binary array to integers (0 or 1) and returns the ensemble predictions.\n",
        "   - Acknowledges that some models may be more accurate or reliable than others.\n",
        "   - By assigning weights based on model performance on the training data, it allows more accurate models to have a greater influence on the final prediction, leading to potentially improved performance.\n"
      ]
    },
    {
      "cell_type": "markdown",
      "metadata": {
        "id": "jjSREvg4FTHf"
      },
      "source": [
        "**Task:** Now, for your best method, change $i$ from 2 to 100 and report $i$, train and test accuracy of the best model. Also, plot test and train accuracy for $2\\leq i\\leq100$."
      ]
    },
    {
      "cell_type": "code",
      "execution_count": 18,
      "metadata": {
        "id": "tfKS-Jq0-v4P",
        "metadata": {}
      },
      "outputs": [
        {
          "name": "stderr",
          "output_type": "stream",
          "text": [
            "/Library/Frameworks/Python.framework/Versions/3.11/lib/python3.11/site-packages/numpy/core/fromnumeric.py:59: FutureWarning: 'Series.swapaxes' is deprecated and will be removed in a future version. Please use 'Series.transpose' instead.\n",
            "  return bound(*args, **kwds)\n"
          ]
        },
        {
          "data": {
            "image/png": "[encoded data removed]",
            "text/plain": [
              "<Figure size 1000x600 with 1 Axes>"
            ]
          },
          "metadata": {},
          "output_type": "display_data"
        },
        {
          "name": "stdout",
          "output_type": "stream",
          "text": [
            "Best number of models (i): 13\n",
            "Test Accuracy of the Best Model: 81.90160309563295\n",
            "Train Accuracy of the Best Model: 81.40254858058988\n"
          ]
        }
      ],
      "source": [
        "def evaluate_majority_voting(models, X_test, y_test,X_train_scaled):\n",
        "    test_accuracies = []\n",
        "    train_accuracies = []\n",
        "    for i in range(2, 101):\n",
        "        predictions = np.array([model.predict(X_test) for model in models[:i]])\n",
        "        ensemble_predictions = np.mean(predictions, axis=0) >= 0.5\n",
        "        accuracy = accuracy_score(y_test, ensemble_predictions)\n",
        "        test_accuracies.append(accuracy)\n",
        "\n",
        "        train_predictions = np.array([model.predict(X_train_scaled) for model in models[:i]])\n",
        "        ensemble_train_predictions = np.mean(train_predictions, axis=0) >= 0.5\n",
        "        train_accuracy = accuracy_score(y_train, ensemble_train_predictions)\n",
        "        train_accuracies.append(train_accuracy)\n",
        "    \n",
        "    plt.figure(figsize=(10, 6))\n",
        "    plt.plot(range(2, 101), test_accuracies, label='Test Accuracy')\n",
        "    plt.plot(range(2, 101), train_accuracies, label='Train Accuracy')\n",
        "    plt.xlabel('Number of Models (i)')\n",
        "    plt.ylabel('Accuracy')\n",
        "    plt.title('Test and Train Accuracy vs Number of Models (i)')\n",
        "    plt.axvline(x=np.argmax(test_accuracies) + 2, color='r', linestyle='--', label=f'Best i for Test = {np.argmax(test_accuracies) + 2}')\n",
        "    plt.legend()\n",
        "    plt.grid(True)\n",
        "    plt.show()\n",
        "\n",
        "    return test_accuracies, train_accuracies\n",
        "\n",
        "models = train_models(X_train_scaled, y_train, num_models=100)\n",
        "test_accuracies_majority_voting, train_accuracies_majority_voting = evaluate_majority_voting(models, X_test_scaled, y_test, X_train_scaled)\n",
        "\n",
        "# the best model\n",
        "best_i = np.argmax(test_accuracies_majority_voting) + 2 \n",
        "best_test_accuracy = test_accuracies_majority_voting[best_i - 2]\n",
        "best_train_accuracy = train_accuracies_majority_voting[best_i - 2]\n",
        "\n",
        "print(\"Best number of models (i):\", best_i)\n",
        "print(\"Test Accuracy of the Best Model:\", best_test_accuracy * 100)\n",
        "print(\"Train Accuracy of the Best Model:\", best_train_accuracy * 100)\n"
      ]
    },
    {
      "cell_type": "markdown",
      "metadata": {
        "id": "BWV0YUgRGg1p"
      },
      "source": [
        "**Question:** Analyze the results."
      ]
    },
    {
      "cell_type": "markdown",
      "metadata": {},
      "source": [
        "**Your Answer:**"
      ]
    },
    {
      "cell_type": "markdown",
      "metadata": {},
      "source": [
        "Through our exploration, we found that having **13 models** in our ensemble works best. With this setup, we achieved **81.90%** accuracy on the training data and **81.40%** on the test data.\n",
        "\n",
        "Adding more models initially helped boost accuracy, showing that diversity in perspectives improves our ensemble's performance. However, we need to be cautious; adding too many models can lead to overfitting, where the model memorizes the training data instead of understanding its patterns.\n",
        "\n",
        "The fact that our ensemble performs similarly on both training and test data indicates it's not overfitting, which is great. It means our ensemble is generalizing well to new data.\n",
        "\n",
        "This study highlights the strength of ensemble methods—they combine multiple models' insights to create a more robust predictor. And finding the right balance between complexity and generalization is key to their success.\n"
      ]
    }
  ],
  "metadata": {
    "colab": {
      "provenance": []
    },
    "kernelspec": {
      "display_name": "Python 3",
      "name": "python3"
    },
    "language_info": {
      "codemirror_mode": {
        "name": "ipython",
        "version": 3
      },
      "file_extension": ".py",
      "mimetype": "text/x-python",
      "name": "python",
      "nbconvert_exporter": "python",
      "pygments_lexer": "ipython3",
      "version": "3.11.3"
    }
  },
  "nbformat": 4,
  "nbformat_minor": 0
}
