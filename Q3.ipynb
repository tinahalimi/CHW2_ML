{
 "cells": [
  {
   "cell_type": "markdown",
   "id": "5f42a3ce",
   "metadata": {},
   "source": [
    "<h1 align=\"center\">Introduction to Machine Learning - 25737-2</h1>\n",
    "<h4 align=\"center\">Dr. R. Amiri</h4>\n",
    "<h4 align=\"center\">Sharif University of Technology, Spring 2024</h4>\n",
    "\n",
    "\n",
    "**<font color='red'>Plagiarism is strongly prohibited!</font>**\n",
    "\n",
    "\n",
    "**Student Name**: Tina Halimi\n",
    "\n",
    "**Student ID**: 400101078\n",
    "\n",
    "\n",
    "\n"
   ]
  },
  {
   "cell_type": "markdown",
   "id": "a01c559e",
   "metadata": {},
   "source": [
    "## Importing Libraries\n",
    "\n",
    "First we import libraries that we need for this assignment."
   ]
  },
  {
   "cell_type": "code",
   "execution_count": 1,
   "id": "0423187e",
   "metadata": {},
   "outputs": [],
   "source": [
    "# import any other libraries needed below\n",
    "\n",
    "import numpy as np\n",
    "import pandas as pd\n",
    "import matplotlib.pyplot as plt\n",
    "from sklearn.model_selection import train_test_split\n",
    "from sklearn.naive_bayes import GaussianNB\n",
    "from sklearn.metrics import accuracy_score\n",
    "from sklearn.discriminant_analysis import LinearDiscriminantAnalysis"
   ]
  },
  {
   "cell_type": "markdown",
   "id": "2f795731",
   "metadata": {},
   "source": [
    "## Reading Data and Preprocessing\n",
    "\n",
    "In this section, we want to read data from a CSV file and then preprocess it to make it ready for the rest of the problem.\n",
    "\n",
    "First, we read the data in the cell below and extract an $m \\times n$ matrix, $X$, and an $m \\times 1$ vector, $Y$, from it, which represent our knowledge about the features of the data (`X1`, `X2`, `X3`) and the class (`Y`), respectively. Note that by $m$, we mean the number of data points and by $n$, we mean the number of features."
   ]
  },
  {
   "cell_type": "code",
   "execution_count": 2,
   "id": "410e750d",
   "metadata": {},
   "outputs": [
    {
     "name": "stdout",
     "output_type": "stream",
     "text": [
      "(10000, 3)\n",
      "(10000,)\n"
     ]
    }
   ],
   "source": [
    "### START CODE HERE ###\n",
    "data = pd.read_csv('data2_logistic.csv')\n",
    "\n",
    "X = data[['X1', 'X2', 'X3']] \n",
    "Y = data['Y']\n",
    "\n",
    "X = X.values\n",
    "Y = Y.values\n",
    "\n",
    "### END CODE HERE ###\n",
    "\n",
    "print(X.shape)\n",
    "print(Y.shape)"
   ]
  },
  {
   "cell_type": "markdown",
   "id": "866734e2",
   "metadata": {},
   "source": [
    "Next, we should normalize our data. For normalizing a vector $\\mathbf{x}$, a very common method is to use this formula:\n",
    "\n",
    "$$\n",
    "\\mathbf{x}_{norm} = \\dfrac{\\mathbf{x} - \\overline{\\mathbf{x}}}{\\sigma_\\mathbf{x}}\n",
    "$$\n",
    "\n",
    "Here, $\\overline{x}$ and $\\sigma_\\mathbf{x}$ denote the mean and standard deviation of vector $\\mathbf{x}$, respectively. Use this formula and store the new $X$ and $Y$ vectors in the cell below.\n",
    "\n",
    "**Question**: Briefly explain why we need to normalize our data before starting the training.\n",
    "\n",
    "**Answer**:"
   ]
  },
  {
   "cell_type": "markdown",
   "id": "b5e9c237",
   "metadata": {},
   "source": [
    "### Reasons for Data Normalization in Machine Learning\n",
    "\n",
    "1. **Improved convergence**: Normalizing the features helps algorithms converge faster during training. When features are on different scales, some might dominate the optimization process, leading to slower convergence or getting stuck in local minima.\n",
    "\n",
    "2. **Better performance**: Normalization can lead to better performance of the model, especially for algorithms that are sensitive to the scale of features, such as gradient-based optimization algorithms (e.g., gradient descent) and distance-based algorithms (e.g., K-nearest neighbors).\n",
    "\n",
    "3. **Regularization**: Normalization can act as a form of regularization, preventing large weights from dominating the learning process. This can help prevent overfitting and improve the generalization ability of the model.\n",
    "\n",
    "4. **Interpretability**: Normalizing the data can also improve the interpretability of the model by making the coefficients or weights associated with each feature more comparable and easier to interpret.\n",
    "\n",
    "Overall, normalizing the data before training helps ensure that the learning algorithm operates effectively and efficiently, leading to better model performance and interpretability.\n"
   ]
  },
  {
   "cell_type": "code",
   "execution_count": 3,
   "id": "9e757eb0",
   "metadata": {},
   "outputs": [],
   "source": [
    "### START CODE HERE ###\n",
    "\n",
    "X_mean = np.mean(X, axis=0)\n",
    "X_std = np.std(X, axis=0)\n",
    "\n",
    "X_norm = (X - X_mean) / X_std\n",
    "\n",
    "# Y_mean = np.mean(Y)\n",
    "# Y_std = np.std(Y)\n",
    "# Y_norm = (Y - Y_mean) / Y_std\n",
    "\n",
    "### END CODE HERE ###"
   ]
  },
  {
   "cell_type": "markdown",
   "id": "5465bfa4",
   "metadata": {},
   "source": [
    "Finally, we should add a column of $1$s at the beginning of $X$ to represent the bias term. Do this in the next cell. Note that after this process, $X$ should be an $m \\times (n+1)$ matrix."
   ]
  },
  {
   "cell_type": "code",
   "execution_count": 4,
   "id": "b9a60f1f",
   "metadata": {},
   "outputs": [
    {
     "name": "stdout",
     "output_type": "stream",
     "text": [
      "Shape of X_with_bias: (10000, 4)\n"
     ]
    }
   ],
   "source": [
    "### START CODE HERE ###\n",
    "\n",
    "X_with_bias = np.concatenate((np.ones((X_norm.shape[0], 1)), X_norm), axis=1)\n",
    "print(\"Shape of X_with_bias:\", X_with_bias.shape)\n",
    "\n",
    "### END CODE HERE ###\n",
    "\n",
    "# print(X.shape)"
   ]
  },
  {
   "cell_type": "markdown",
   "id": "5cdf0d78",
   "metadata": {},
   "source": [
    "## Training Model"
   ]
  },
  {
   "cell_type": "markdown",
   "id": "c8714abe",
   "metadata": {},
   "source": [
    "### Sigmoid Function\n",
    "You should begin by implementing the $\\sigma(\\mathbf{x})$ function. Recall that the logistic regression hypothesis $\\mathcal{h}()$ is defined as:\n",
    "$$\n",
    "\\mathcal{h}_{\\theta}(\\mathbf{x}) = \\mathcal{g}(\\theta^\\mathbf{T}\\mathbf{x})\n",
    "$$\n",
    "where $\\mathcal{g}()$ is the sigmoid function as:\n",
    "$$\n",
    "\\mathcal{g}(\\mathbf{z}) = \\frac{1}{1+exp^{-\\mathbf{z}}}\n",
    "$$\n",
    "The Sigmoid function has the property that $\\mathbf{g}(+\\infty)\\approx 1$ and $\\mathcal{g}(−\\infty)\\approx0$. Test your function by calling `sigmoid(z)` on different test samples. Be certain that your sigmoid function works with both vectors and matrices - for either a vector or a matrix, your function should perform the sigmoid function on every element."
   ]
  },
  {
   "cell_type": "code",
   "execution_count": 5,
   "id": "6a6b6ae4",
   "metadata": {},
   "outputs": [
    {
     "name": "stdout",
     "output_type": "stream",
     "text": [
      "Sigmoid of scalar: 0.5\n",
      "Sigmoid of vector: [4.53978687e-05 5.00000000e-01 9.99954602e-01]\n",
      "Sigmoid of matrix:\n",
      "[[0.26894142 0.5        0.73105858]\n",
      " [0.11920292 0.26894142 0.5       ]]\n"
     ]
    }
   ],
   "source": [
    "def sigmoid(z):\n",
    "    s = 1 / (1 + np.exp(-z))\n",
    "    return s\n",
    "\n",
    "test_scalar = 0\n",
    "test_vector = np.array([-10, 0, 10])\n",
    "test_matrix = np.array([[-1, 0, 1], [-2, -1, 0]])\n",
    "\n",
    "print(\"Sigmoid of scalar:\", sigmoid(test_scalar))\n",
    "print(\"Sigmoid of vector:\", sigmoid(test_vector))\n",
    "print(\"Sigmoid of matrix:\")\n",
    "print(sigmoid(test_matrix))\n"
   ]
  },
  {
   "cell_type": "markdown",
   "id": "83846074",
   "metadata": {},
   "source": [
    "### Cost Function \n",
    "Implement the functions to compute the cost function. Recall the cost function for logistic regression is a scalar value given by:\n",
    "$$\n",
    "\\mathcal{J}(\\theta) = \\sum_{i=1}^{n}[-y^{(i)}\\log{(\\mathcal{h}_\\theta(\\mathbf{x}^{(i)}))}-(1-y^{(i)})\\log{(1-\\mathcal{h}_\\theta(\\mathbf{x}^{(i)}))}] + \\frac{\\lambda}{2}||\\theta||_2^2\n",
    "$$"
   ]
  },
  {
   "cell_type": "code",
   "execution_count": 6,
   "id": "26a9bdeb",
   "metadata": {},
   "outputs": [],
   "source": [
    "def computeCost(theta, X, y, regLambda):\n",
    "    '''\n",
    "    Computes the objective function\n",
    "    Arguments:\n",
    "        theta is d-dimensional numpy vector\n",
    "        X is a n-by-d numpy matrix\n",
    "        y is an n-dimensional numpy vector\n",
    "        regLambda is the scalar regularization constant\n",
    "    Returns:\n",
    "        a scalar value of the cost  ** make certain you're not returning a 1 x 1 matrix! **\n",
    "    '''\n",
    "    m, n = X.shape\n",
    "    h = sigmoid(X.dot(theta))\n",
    "    loss = -np.sum(y * np.log(h) + (1 - y) * np.log(1 - h)) / m\n",
    "    regularization_term = regLambda / (2 * m) * np.sum(theta[1:] ** 2)\n",
    "    loss += regularization_term\n",
    "    return loss\n"
   ]
  },
  {
   "cell_type": "markdown",
   "id": "6eaf1146",
   "metadata": {},
   "source": [
    "### Gradient of the Cost Function\n",
    "Now, we want to calculate the gradient of the cost function. The gradient of the cost function is a d-dimensional vector.\\\n",
    "We must be careful not to regularize the $\\theta_0$ parameter (corresponding to the first feature we add to each instance), and so the 0's element is given by:\n",
    "$$\n",
    "\\frac{\\partial \\mathcal{J}(\\theta)}{\\partial \\theta_0} = \\sum_{i=1}^n (\\mathcal{h}_\\theta(\\mathbf{x}^{(i)})-y^{(i)})\n",
    "$$\n",
    "\n",
    "Question: What is the answer to this problem for the $j^{th}$ element (for $j=1...d$)?\n",
    "\n",
    "Answer:"
   ]
  },
  {
   "cell_type": "markdown",
   "id": "5c963e22",
   "metadata": {},
   "source": [
    "The gradient of the cost function with respect to the $j^{th}$ element (for $j = 1...d$) is given by:\n",
    "\n",
    "$$\n",
    "\\frac{\\partial \\mathcal{J}(\\theta)}{\\partial \\theta_j} = \\frac{1}{m} \\sum_{i=1}^{m} (\\mathcal{h}_\\theta(\\mathbf{x}^{(i)}) - y^{(i)}) \\cdot x_j^{(i)} + \\frac{\\lambda}{m} \\cdot \\theta_j \\quad \\text{for } j > 0\n",
    "$$\n",
    "\n",
    "$$\n",
    "\\frac{\\partial \\mathcal{J}(\\theta)}{\\partial \\theta_0} = \\frac{1}{m} \\sum_{i=1}^{m} (\\mathcal{h}_\\theta(\\mathbf{x}^{(i)}) - y^{(i)})\n",
    "$$\n",
    "\n",
    "This expression represents the gradient of the cost function with respect to each parameter $\\theta_j$, where $j = 1...d$. For $j > 0$, we add the regularization term $\\frac{\\lambda}{m} \\cdot \\theta_j$, while for $j = 0$, there is no regularization applied.\n"
   ]
  },
  {
   "cell_type": "code",
   "execution_count": 7,
   "id": "35f7c2dd",
   "metadata": {},
   "outputs": [],
   "source": [
    "def computeGradient(theta, X, y, regLambda):\n",
    "    '''\n",
    "    Computes the gradient of the objective function\n",
    "    Arguments:\n",
    "        theta is d-dimensional numpy vector\n",
    "        X is a n-by-d numpy matrix\n",
    "        y is an n-dimensional numpy vector\n",
    "        regLambda is the scalar regularization constant\n",
    "    Returns:\n",
    "        the gradient, an d-dimensional vector\n",
    "    '''\n",
    "    m, n = X.shape\n",
    "    h = sigmoid(X.dot(theta))\n",
    "    \n",
    "    grad = np.dot(X.T, (h - y) / m)\n",
    "    regularization_term = regLambda / m * theta\n",
    "    regularization_term[0] = 0 \n",
    "    grad += regularization_term\n",
    "    return grad"
   ]
  },
  {
   "cell_type": "markdown",
   "id": "24bc86bd",
   "metadata": {},
   "source": [
    "### Training and Prediction\n",
    "Once you have the cost and gradient functions complete, implemen tthe fit and predict methods.\\\n",
    "Your fit method should train the model via gradient descent, relying on the cost and gradient functions. This function should return two parameters. The first parameter is $\\theta$, and the second parameter is a `numpy` array that contains the loss in each iteration. This array is indicated by `loss_history` in the code.\\\n",
    "Instead of simply running gradient descent for a specific number of iterations, we will use a more sophisticated method: we will stop it after the solution hasconverged. Stop the gradient descent procedure when $\\theta$ stops changing between consecutive iterations. You can detect this convergence when:\n",
    "$$\n",
    "||\\theta_{new}-\\theta_{old}||_2 <= \\epsilon,\n",
    "$$\n",
    "for some small $\\epsilon$ (e.g, $\\epsilon=10E-4$).\\\n",
    "For readability, we’d recommend implementing this convergence test as a dedicated function `hasConverged`."
   ]
  },
  {
   "cell_type": "code",
   "execution_count": 8,
   "id": "cc0cad78",
   "metadata": {},
   "outputs": [],
   "source": [
    "def fit(X, y, regLambda=0.01, alpha=0.01, epsilon=1e-4, maxNumIters=100):\n",
    "    '''\n",
    "    Trains the model\n",
    "    Arguments:\n",
    "        X           is a n-by-d numpy matrix\n",
    "        y           is an n-dimensional numpy vector\n",
    "        maxNumIters is the maximum number of gradient descent iterations\n",
    "        regLambda   is the scalar regularization constant\n",
    "        epsilon     is the convergence rate\n",
    "        alpha       is the gradient descent learning rate\n",
    "    '''\n",
    "    m, n = X.shape\n",
    "    theta = np.zeros(n)\n",
    "    loss_history = []\n",
    "\n",
    "    for i in range(maxNumIters):\n",
    "        grad = computeGradient(theta, X, y, regLambda)\n",
    "        theta_prev = np.copy(theta)\n",
    "        theta -= alpha * grad\n",
    "\n",
    "        loss = computeCost(theta, X, y, regLambda)\n",
    "        loss_history.append(loss)\n",
    "\n",
    "        if hasConverged(theta_prev, theta, epsilon):\n",
    "            break\n",
    "        \n",
    "        theta_prev = np.copy(theta)\n",
    "    return theta, loss_history\n",
    "\n",
    "def hasConverged(theta_old, theta_new, epsilon):\n",
    "    '''\n",
    "    Return if the theta converged or not\n",
    "    Arguments:\n",
    "        theta_old   is the theta calculated in previous iteration\n",
    "        theta_new   is the theta calculated in current iteration\n",
    "        epsilon     is the convergence rate\n",
    "    '''\n",
    "    return np.linalg.norm(theta_new - theta_old) <= epsilon"
   ]
  },
  {
   "cell_type": "markdown",
   "id": "bb648852",
   "metadata": {},
   "source": [
    "Finally, we want to evaluate our loss for this problem. Complete the cell below to calculate and print the loss of each iteration and the final theta of your model."
   ]
  },
  {
   "cell_type": "code",
   "execution_count": 9,
   "id": "252e556f",
   "metadata": {},
   "outputs": [
    {
     "name": "stdout",
     "output_type": "stream",
     "text": [
      "\n",
      "Final Theta: [-0.07917594 -0.12794085  0.34107905  0.00717197]\n",
      "Iteration 1: Loss = 0.6913809060118176\n",
      "Iteration 2: Loss = 0.6896234948289701\n",
      "Iteration 3: Loss = 0.6878749023208994\n",
      "Iteration 4: Loss = 0.6861350838563361\n",
      "Iteration 5: Loss = 0.6844039948667454\n",
      "Iteration 6: Loss = 0.682681590849767\n",
      "Iteration 7: Loss = 0.6809678273725951\n",
      "Iteration 8: Loss = 0.6792626600752987\n",
      "Iteration 9: Loss = 0.677566044674081\n",
      "Iteration 10: Loss = 0.6758779369644806\n",
      "Iteration 11: Loss = 0.6741982928245116\n",
      "Iteration 12: Loss = 0.6725270682177437\n",
      "Iteration 13: Loss = 0.6708642191963253\n",
      "Iteration 14: Loss = 0.6692097019039447\n",
      "Iteration 15: Loss = 0.6675634725787335\n",
      "Iteration 16: Loss = 0.6659254875561126\n",
      "Iteration 17: Loss = 0.6642957032715767\n",
      "Iteration 18: Loss = 0.6626740762634232\n",
      "Iteration 19: Loss = 0.6610605631754218\n",
      "Iteration 20: Loss = 0.6594551207594275\n",
      "Iteration 21: Loss = 0.6578577058779349\n",
      "Iteration 22: Loss = 0.6562682755065772\n",
      "Iteration 23: Loss = 0.6546867867365672\n",
      "Iteration 24: Loss = 0.653113196777083\n",
      "Iteration 25: Loss = 0.6515474629575974\n",
      "Iteration 26: Loss = 0.6499895427301515\n",
      "Iteration 27: Loss = 0.6484393936715747\n",
      "Iteration 28: Loss = 0.6468969734856482\n",
      "Iteration 29: Loss = 0.6453622400052161\n",
      "Iteration 30: Loss = 0.6438351511942413\n",
      "Iteration 31: Loss = 0.6423156651498088\n",
      "Iteration 32: Loss = 0.6408037401040767\n",
      "Iteration 33: Loss = 0.6392993344261743\n",
      "Iteration 34: Loss = 0.6378024066240476\n",
      "Iteration 35: Loss = 0.636312915346256\n",
      "Iteration 36: Loss = 0.6348308193837151\n",
      "Iteration 37: Loss = 0.6333560776713911\n",
      "Iteration 38: Loss = 0.6318886492899456\n",
      "Iteration 39: Loss = 0.6304284934673297\n",
      "Iteration 40: Loss = 0.6289755695803306\n",
      "Iteration 41: Loss = 0.6275298371560701\n",
      "Iteration 42: Loss = 0.6260912558734544\n",
      "Iteration 43: Loss = 0.6246597855645778\n",
      "Iteration 44: Loss = 0.6232353862160801\n",
      "Iteration 45: Loss = 0.6218180179704573\n",
      "Iteration 46: Loss = 0.6204076411273268\n",
      "Iteration 47: Loss = 0.6190042161446487\n",
      "Iteration 48: Loss = 0.6176077036399031\n",
      "Iteration 49: Loss = 0.6162180643912222\n",
      "Iteration 50: Loss = 0.6148352593384802\n",
      "Iteration 51: Loss = 0.6134592495843417\n",
      "Iteration 52: Loss = 0.612089996395267\n",
      "Iteration 53: Loss = 0.6107274612024756\n",
      "Iteration 54: Loss = 0.6093716056028708\n",
      "Iteration 55: Loss = 0.6080223913599232\n",
      "Iteration 56: Loss = 0.6066797804045141\n",
      "Iteration 57: Loss = 0.6053437348357404\n",
      "Iteration 58: Loss = 0.6040142169216824\n",
      "Iteration 59: Loss = 0.6026911891001314\n",
      "Iteration 60: Loss = 0.6013746139792819\n",
      "Iteration 61: Loss = 0.6000644543383872\n",
      "Iteration 62: Loss = 0.5987606731283778\n",
      "Iteration 63: Loss = 0.5974632334724453\n",
      "Iteration 64: Loss = 0.5961720986665918\n",
      "Iteration 65: Loss = 0.5948872321801438\n",
      "Iteration 66: Loss = 0.5936085976562337\n",
      "Iteration 67: Loss = 0.5923361589122469\n",
      "Iteration 68: Loss = 0.5910698799402382\n",
      "Iteration 69: Loss = 0.589809724907314\n",
      "Iteration 70: Loss = 0.5885556581559851\n",
      "Iteration 71: Loss = 0.5873076442044877\n",
      "Iteration 72: Loss = 0.5860656477470739\n",
      "Iteration 73: Loss = 0.5848296336542733\n",
      "Iteration 74: Loss = 0.583599566973125\n",
      "Iteration 75: Loss = 0.5823754129273805\n",
      "Iteration 76: Loss = 0.5811571369176805\n",
      "Iteration 77: Loss = 0.5799447045217012\n",
      "Iteration 78: Loss = 0.5787380814942756\n",
      "Iteration 79: Loss = 0.5775372337674894\n",
      "Iteration 80: Loss = 0.5763421274507479\n",
      "Iteration 81: Loss = 0.5751527288308195\n",
      "Iteration 82: Loss = 0.5739690043718555\n",
      "Iteration 83: Loss = 0.5727909207153825\n",
      "Iteration 84: Loss = 0.5716184446802732\n",
      "Iteration 85: Loss = 0.5704515432626939\n",
      "Iteration 86: Loss = 0.5692901836360276\n",
      "Iteration 87: Loss = 0.5681343331507761\n",
      "Iteration 88: Loss = 0.5669839593344402\n",
      "Iteration 89: Loss = 0.5658390298913788\n",
      "Iteration 90: Loss = 0.5646995127026453\n",
      "Iteration 91: Loss = 0.5635653758258055\n",
      "Iteration 92: Loss = 0.5624365874947355\n",
      "Iteration 93: Loss = 0.5613131161193992\n",
      "Iteration 94: Loss = 0.5601949302856074\n",
      "Iteration 95: Loss = 0.5590819987547584\n",
      "Iteration 96: Loss = 0.5579742904635592\n",
      "Iteration 97: Loss = 0.5568717745237323\n",
      "Iteration 98: Loss = 0.555774420221701\n",
      "Iteration 99: Loss = 0.5546821970182612\n",
      "Iteration 100: Loss = 0.5535950745482358\n"
     ]
    }
   ],
   "source": [
    "### START CODE HERE ###\n",
    "\n",
    "theta, loss_history = fit(X_with_bias, Y) # calculating theta and loss of each iteration\n",
    "\n",
    "print(\"\\nFinal Theta:\", theta)\n",
    "\n",
    "for i, loss in enumerate(loss_history):\n",
    "    print(\"Iteration {}: Loss = {}\".format(i+1, loss))\n",
    "\n",
    "\n",
    "### END CODE HERE ###"
   ]
  },
  {
   "cell_type": "markdown",
   "id": "f4b3fab6",
   "metadata": {},
   "source": [
    "### Testing Your Implementation\n",
    "To test your logistic regression implementation, first you should use `train_test_split` function to split dataset into three parts:\n",
    "\n",
    "- 70% for the training set\n",
    "- 20% for the validation set\n",
    "- 10% for the test set\n",
    "\n",
    "Do this in the cell below."
   ]
  },
  {
   "cell_type": "code",
   "execution_count": 10,
   "id": "4518fe11",
   "metadata": {},
   "outputs": [
    {
     "name": "stdout",
     "output_type": "stream",
     "text": [
      "X_train shape: (7000, 4)\n",
      "Y_train shape: (7000,)\n",
      "X_val shape: (2000, 4)\n",
      "Y_val shape: (2000,)\n",
      "X_test shape: (1000, 4)\n",
      "Y_test shape: (1000,)\n"
     ]
    }
   ],
   "source": [
    "### START CODE HERE ###\n",
    "\n",
    "X_train, X_temp, Y_train, Y_temp = train_test_split(X_with_bias, Y, test_size=0.3, random_state=42)\n",
    "X_test, X_val, Y_test, Y_val = train_test_split(X_temp, Y_temp, test_size=2/3, random_state=42)\n",
    "\n",
    "print(\"X_train shape:\", X_train.shape)\n",
    "print(\"Y_train shape:\", Y_train.shape)\n",
    "print(\"X_val shape:\", X_val.shape)\n",
    "print(\"Y_val shape:\", Y_val.shape)\n",
    "print(\"X_test shape:\", X_test.shape)\n",
    "print(\"Y_test shape:\", Y_test.shape)\n",
    "\n",
    "### END CODE HERE ###"
   ]
  },
  {
   "cell_type": "markdown",
   "id": "f9fbe5d7",
   "metadata": {},
   "source": [
    "Then, you should complete `predict` function to find the weight vector and the loss on the test data."
   ]
  },
  {
   "cell_type": "code",
   "execution_count": 11,
   "id": "95c2fe20",
   "metadata": {},
   "outputs": [],
   "source": [
    "def predict(X, theta):\n",
    "    '''\n",
    "    Use the model to predict values for each instance in X\n",
    "    Arguments:\n",
    "        theta is d-dimensional numpy vector\n",
    "        X     is a n-by-d numpy matrix\n",
    "    Returns:\n",
    "        an n-dimensional numpy vector of the predictions, the output should be binary (use h_theta > .5)\n",
    "    '''\n",
    "    h = sigmoid(X.dot(theta))\n",
    "    Y = (h > 0.5).astype(int)\n",
    "    return Y\n"
   ]
  },
  {
   "cell_type": "markdown",
   "id": "246d1c02",
   "metadata": {},
   "source": [
    "Now, run the `fit` and `predict` function for different values of the learning rate and regularization constant. Plot the `loss_history` of these different values for train and test data both in the same figure.\n",
    "\n",
    "**Question**: Discuss the effect of the learning rate and regularization constant and find the best values of these parameters.\n",
    "\n",
    "**Answer**:"
   ]
  },
  {
   "cell_type": "markdown",
   "id": "1d698f94",
   "metadata": {},
   "source": [
    "### Effect of Learning Rate and Regularization Constant\n",
    "\n",
    "#### Learning Rate (Alpha)\n",
    "- **Definition**: The learning rate controls the step size of gradient descent updates.\n",
    "- **Effect**:\n",
    "  - **High Learning Rate**: May cause the algorithm to diverge, overshooting the minimum of the cost function.\n",
    "  - **Low Learning Rate**: Can lead to slow convergence, especially on large datasets.\n",
    "- **Optimization**:\n",
    "  - Try a range of values (e.g., 0.01, 0.05, 0.1) and choose the one resulting in fast convergence without oscillations or divergence.\n",
    "\n",
    "#### Regularization Constant (Lambda)\n",
    "- **Definition**: Controls the importance of regularization in the cost function.\n",
    "- **Effect**:\n",
    "  - **Higher Constant**: Imposes stronger penalty on large weights, leading to simpler models.\n",
    "  - **Lower Constant**: Allows model to fit training data more closely but increases risk of overfitting.\n",
    "- **Optimization**:\n",
    "  - Determine problem-dependent optimal value using techniques like cross-validation.\n",
    "  - Common values to try: 0 (no regularization), 0.1, 1, 10.\n",
    "\n",
    "#### Finding the Best Values\n",
    "- **Grid Search or Random Search**:\n",
    "  - Search over a range of values for both learning rate and regularization constant.\n",
    "- **Evaluation**:\n",
    "  - Evaluate model's performance using a validation set or cross-validation.\n",
    "- **Selection**:\n",
    "  - Choose parameters yielding lowest validation loss.\n",
    "- **Visualization**:\n",
    "  - Plot performance using graphs to observe loss changes with different hyperparameters.\n",
    "\n",
    "In practice, experimentation with different combinations of learning rates and regularization constants, along with visualization and evaluation, helps in finding the best values for optimal model performance.\n"
   ]
  },
  {
   "cell_type": "code",
   "execution_count": 12,
   "id": "cd2af382",
   "metadata": {},
   "outputs": [
    {
     "data": {
      "image/png": "[encoded data removed]",
      "text/plain": [
       "<Figure size 640x480 with 1 Axes>"
      ]
     },
     "metadata": {},
     "output_type": "display_data"
    }
   ],
   "source": [
    "### START CODE HERE ###\n",
    "\n",
    "learning_rates = [0.01, 0.05, 0.1]\n",
    "reg_constants = [0, 0.1, 1]\n",
    "\n",
    "train_loss_history = []\n",
    "# val_loss_history = []\n",
    "test_loss_history = []\n",
    "\n",
    "for alpha in learning_rates:\n",
    "    for regLambda in reg_constants:\n",
    "        \n",
    "        theta, loss_history = fit(X_train, Y_train, regLambda=regLambda, alpha=alpha)\n",
    "        \n",
    "        train_predictions = predict(X_train, theta)\n",
    "        # val_predictions = predict(X_val, theta)\n",
    "        test_predictions = predict(X_test, theta)\n",
    "        \n",
    "        train_loss = computeCost(theta, X_train, Y_train, regLambda)\n",
    "        val_loss = computeCost(theta, X_val, Y_val, regLambda)\n",
    "        test_loss = computeCost(theta, X_test, Y_test, regLambda)\n",
    "        \n",
    "        train_loss_history.append(train_loss)\n",
    "        # val_loss_history.append(val_loss)\n",
    "        test_loss_history.append(test_loss)\n",
    "        \n",
    "        plt.plot(loss_history, label=f\"alpha={alpha}, regLambda={regLambda}\")\n",
    "\n",
    "plt.xlabel('Iterations')\n",
    "plt.ylabel('Loss')\n",
    "plt.title('Loss History for Different Hyperparameters')\n",
    "plt.legend(loc='upper right')\n",
    "plt.grid(True)\n",
    "plt.show()\n",
    "  \n",
    "### END CODE HERE ###"
   ]
  },
  {
   "cell_type": "code",
   "execution_count": 13,
   "id": "6f365520",
   "metadata": {},
   "outputs": [
    {
     "data": {
      "image/png": "[encoded data removed]",
      "text/plain": [
       "<Figure size 640x480 with 1 Axes>"
      ]
     },
     "metadata": {},
     "output_type": "display_data"
    }
   ],
   "source": [
    "plt.plot(train_loss_history, label='Train Loss')\n",
    "# plt.plot(val_loss_history, label='Validation Loss')\n",
    "plt.plot(test_loss_history, label='Test Loss')\n",
    "plt.xlabel('Different Params')\n",
    "plt.ylabel('Loss')\n",
    "plt.title('Loss History for Different Hyperparameters')\n",
    "plt.legend()\n",
    "plt.grid(True)\n",
    "plt.show()"
   ]
  },
  {
   "cell_type": "markdown",
   "id": "11babf15",
   "metadata": {},
   "source": [
    "## Naive Bayes\n",
    "\n",
    "In this part, you will use the `GaussianNB` classifier to classify the data. You should not change the default parameters of this classifier. First, train the classifier on the training set and then find the accuracy of it on the test set.\n",
    "\n",
    "**Question**: What is the accuracy of this method on test set?\n",
    "\n",
    "**Answer**:"
   ]
  },
  {
   "cell_type": "code",
   "execution_count": 14,
   "id": "1ef450fb",
   "metadata": {},
   "outputs": [
    {
     "name": "stdout",
     "output_type": "stream",
     "text": [
      "Accuracy of Gaussian Naive Bayes classifier on test set: 92.90%\n"
     ]
    }
   ],
   "source": [
    "### START CODE HERE ###\n",
    "\n",
    "nb_classifier = GaussianNB()\n",
    "nb_classifier.fit(X_train, Y_train)\n",
    "Y_pred = nb_classifier.predict(X_test)\n",
    "\n",
    "accuracy = accuracy_score(Y_test, Y_pred)\n",
    "print(\"Accuracy of Gaussian Naive Bayes classifier on test set: {:.2f}%\".format(accuracy * 100))\n",
    "\n",
    "### END CODE HERE ###"
   ]
  },
  {
   "cell_type": "markdown",
   "id": "b371657d",
   "metadata": {},
   "source": [
    "## LDA (Linear Discriminant Analysis)\n",
    "\n",
    "In this part, you will use the `LinearDiscriminantAnalysis` classifier to classify the data. You should not change the default parameters of this classifier. First, train the classifier on the training set and then find the accuracy of it on the test set.\n",
    "\n",
    "**Question**: What is the accuracy of this method on test set?\n",
    "\n",
    "**Answer**:"
   ]
  },
  {
   "cell_type": "code",
   "execution_count": 15,
   "id": "92cc8743",
   "metadata": {},
   "outputs": [
    {
     "name": "stdout",
     "output_type": "stream",
     "text": [
      "Accuracy of Linear Discriminant Analysis classifier on test set: 96.70%\n"
     ]
    }
   ],
   "source": [
    "### START CODE HERE ###\n",
    "\n",
    "lda_classifier = LinearDiscriminantAnalysis()\n",
    "lda_classifier.fit(X_train, Y_train)\n",
    "Y_pred = lda_classifier.predict(X_test)\n",
    "\n",
    "accuracy = accuracy_score(Y_test, Y_pred)\n",
    "print(\"Accuracy of Linear Discriminant Analysis classifier on test set: {:.2f}%\".format(accuracy * 100))\n",
    "\n",
    "### END CODE HERE ###"
   ]
  },
  {
   "cell_type": "markdown",
   "id": "47736bdf",
   "metadata": {},
   "source": [
    "## Conclution\n",
    "\n",
    "**Question**: What is the best method for classifying this dataset? What is the best accuracy on the test set?\n",
    "\n",
    "**Answer**:"
   ]
  },
  {
   "cell_type": "markdown",
   "id": "c30af2cb",
   "metadata": {},
   "source": [
    "Based on the provided accuracies:\n",
    "\n",
    "- **Gaussian Naive Bayes classifier**: 92.90%\n",
    "- **Linear Discriminant Analysis classifier**: 96.70%\n",
    "\n",
    "It appears that the Linear Discriminant Analysis (LDA) classifier outperforms the Gaussian Naive Bayes classifier on this dataset, achieving a higher accuracy of 96.70% compared to 92.90%.\n",
    "\n",
    "Therefore, the **best method** for classifying this dataset is the **Linear Discriminant Analysis (LDA) classifier**.\n",
    "\n",
    "The **best accuracy** achieved on the test set is **96.70%**, obtained by the Linear Discriminant Analysis classifier.\n"
   ]
  }
 ],
 "metadata": {
  "kernelspec": {
   "display_name": "Python 3 (ipykernel)",
   "language": "python",
   "name": "python3"
  },
  "language_info": {
   "codemirror_mode": {
    "name": "ipython",
    "version": 3
   },
   "file_extension": ".py",
   "mimetype": "text/x-python",
   "name": "python",
   "nbconvert_exporter": "python",
   "pygments_lexer": "ipython3",
   "version": "3.11.3"
  }
 },
 "nbformat": 4,
 "nbformat_minor": 5
}
